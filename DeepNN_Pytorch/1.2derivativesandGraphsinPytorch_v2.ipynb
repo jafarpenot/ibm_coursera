{
 "cells": [
  {
   "cell_type": "markdown",
   "metadata": {},
   "source": [
    "<a href=\"http://cocl.us/pytorch_link_top\">\n",
    "    <img src=\"https://s3-api.us-geo.objectstorage.softlayer.net/cf-courses-data/CognitiveClass/DL0110EN/notebook_images%20/Pytochtop.png\" width=\"750\" alt=\"IBM Product \" />\n",
    "</a> "
   ]
  },
  {
   "cell_type": "markdown",
   "metadata": {},
   "source": [
    "<img src=\"https://s3-api.us-geo.objectstorage.softlayer.net/cf-courses-data/CognitiveClass/DL0110EN/notebook_images%20/cc-logo-square.png\" width=\"200\" alt=\"cognitiveclass.ai logo\" />"
   ]
  },
  {
   "cell_type": "markdown",
   "metadata": {},
   "source": [
    "<h1>Differentiation in PyTorch</h1> "
   ]
  },
  {
   "cell_type": "markdown",
   "metadata": {},
   "source": [
    "<h2>Table of Contents</h2>\n",
    "\n",
    "<p>In this lab, you will learn the basics of differentiation.</p> \n",
    "\n",
    "<ul>\n",
    "    <li><a href=\"#Derivative\">Derivatives</a></li>\n",
    "    <li><a href=\"#Partial_Derivative\">Partial Derivatives</a></li>\n",
    "</ul>\n",
    "\n",
    "<p>Estimated Time Needed: <strong>25 min</strong></p>\n",
    "<hr>"
   ]
  },
  {
   "cell_type": "markdown",
   "metadata": {},
   "source": [
    "<h2>Preparation</h2>"
   ]
  },
  {
   "cell_type": "markdown",
   "metadata": {},
   "source": [
    "The following are the libraries we are going to use for this lab."
   ]
  },
  {
   "cell_type": "code",
   "execution_count": 5,
   "metadata": {},
   "outputs": [],
   "source": [
    "# These are the libraries will be useing for this lab.\n",
    "\n",
    "import torch \n",
    "import matplotlib.pylab as plt\n"
   ]
  },
  {
   "cell_type": "markdown",
   "metadata": {},
   "source": [
    "<!--Empty Space for separating topics-->"
   ]
  },
  {
   "cell_type": "markdown",
   "metadata": {},
   "source": [
    "<h2 id=\"Derivative\">Derivatives</h2>"
   ]
  },
  {
   "cell_type": "markdown",
   "metadata": {},
   "source": [
    "Let us create the tensor <code>x</code> and set the parameter <code>requires_grad</code> to true because you are going to take the derivative of the tensor."
   ]
  },
  {
   "cell_type": "code",
   "execution_count": 12,
   "metadata": {},
   "outputs": [
    {
     "name": "stdout",
     "output_type": "stream",
     "text": [
      "The tensor x:  tensor(2., requires_grad=True)\n"
     ]
    }
   ],
   "source": [
    "# Create a tensor x\n",
    "\n",
    "x = torch.tensor(2.0, requires_grad = True)\n",
    "print(\"The tensor x: \", x)"
   ]
  },
  {
   "cell_type": "markdown",
   "metadata": {},
   "source": [
    "Then let us create a tensor according to the equation $ y=x^2 $."
   ]
  },
  {
   "cell_type": "code",
   "execution_count": 7,
   "metadata": {
    "collapsed": false,
    "jupyter": {
     "outputs_hidden": false
    }
   },
   "outputs": [
    {
     "name": "stdout",
     "output_type": "stream",
     "text": [
      "The result of y = x^2:  tensor(4., grad_fn=<PowBackward0>)\n"
     ]
    }
   ],
   "source": [
    "# Create a tensor y according to y = x^2\n",
    "\n",
    "y = x ** 2\n",
    "print(\"The result of y = x^2: \", y)"
   ]
  },
  {
   "cell_type": "markdown",
   "metadata": {},
   "source": [
    "Then let us take the derivative with respect x at x = 2"
   ]
  },
  {
   "cell_type": "code",
   "execution_count": 8,
   "metadata": {
    "collapsed": false,
    "jupyter": {
     "outputs_hidden": false
    }
   },
   "outputs": [
    {
     "name": "stdout",
     "output_type": "stream",
     "text": [
      "The dervative at x = 2:  tensor(4.)\n"
     ]
    }
   ],
   "source": [
    "# Take the derivative. Try to print out the derivative at the value x = 2\n",
    "\n",
    "y.backward()\n",
    "print(\"The dervative at x = 2: \", x.grad)"
   ]
  },
  {
   "cell_type": "markdown",
   "metadata": {},
   "source": [
    "The preceding lines perform the following operation: "
   ]
  },
  {
   "cell_type": "markdown",
   "metadata": {},
   "source": [
    "$\\frac{\\mathrm{dy(x)}}{\\mathrm{dx}}=2x$"
   ]
  },
  {
   "cell_type": "markdown",
   "metadata": {},
   "source": [
    "$\\frac{\\mathrm{dy(x=2)}}{\\mathrm{dx}}=2(2)=4$"
   ]
  },
  {
   "cell_type": "code",
   "execution_count": null,
   "metadata": {},
   "outputs": [],
   "source": []
  },
  {
   "cell_type": "code",
   "execution_count": 9,
   "metadata": {},
   "outputs": [
    {
     "name": "stdout",
     "output_type": "stream",
     "text": [
      "data: tensor(2.)\n",
      "grad_fn: None\n",
      "grad: tensor(4.)\n",
      "is_leaf: True\n",
      "requires_grad: True\n"
     ]
    }
   ],
   "source": [
    "print('data:',x.data)\n",
    "print('grad_fn:',x.grad_fn)\n",
    "print('grad:',x.grad)\n",
    "print(\"is_leaf:\",x.is_leaf)\n",
    "print(\"requires_grad:\",x.requires_grad)"
   ]
  },
  {
   "cell_type": "code",
   "execution_count": 10,
   "metadata": {},
   "outputs": [
    {
     "name": "stdout",
     "output_type": "stream",
     "text": [
      "data: tensor(4.)\n",
      "grad_fn: <PowBackward0 object at 0x7f94bdf5e860>\n",
      "grad: None\n",
      "is_leaf: False\n",
      "requires_grad: True\n"
     ]
    }
   ],
   "source": [
    "print('data:',y.data)\n",
    "print('grad_fn:',y.grad_fn)\n",
    "print('grad:',y.grad)\n",
    "print(\"is_leaf:\",y.is_leaf)\n",
    "print(\"requires_grad:\",y.requires_grad)"
   ]
  },
  {
   "cell_type": "markdown",
   "metadata": {},
   "source": [
    "Let us try to calculate the derivative for a more complicated function. "
   ]
  },
  {
   "cell_type": "code",
   "execution_count": 13,
   "metadata": {},
   "outputs": [
    {
     "name": "stdout",
     "output_type": "stream",
     "text": [
      "The result of y = x^2 + 2x + 1:  tensor(9., grad_fn=<AddBackward0>)\n",
      "The dervative at x = 2:  tensor(6.)\n"
     ]
    }
   ],
   "source": [
    "# Calculate the y = x^2 + 2x + 1, then find the derivative \n",
    "\n",
    "x = torch.tensor(2.0, requires_grad = True)\n",
    "y = x ** 2 + 2 * x + 1\n",
    "print(\"The result of y = x^2 + 2x + 1: \", y)\n",
    "y.backward()\n",
    "print(\"The dervative at x = 2: \", x.grad)"
   ]
  },
  {
   "cell_type": "markdown",
   "metadata": {},
   "source": [
    "The function is in the following form:\n",
    "$y=x^{2}+2x+1$"
   ]
  },
  {
   "cell_type": "markdown",
   "metadata": {},
   "source": [
    "The derivative is given by:\n"
   ]
  },
  {
   "cell_type": "markdown",
   "metadata": {},
   "source": [
    "$\\frac{\\mathrm{dy(x)}}{\\mathrm{dx}}=2x+2$\n",
    "\n",
    "$\\frac{\\mathrm{dy(x=2)}}{\\mathrm{dx}}=2(2)+2=6$"
   ]
  },
  {
   "cell_type": "markdown",
   "metadata": {},
   "source": [
    "<!--Empty Space for separating topics-->"
   ]
  },
  {
   "cell_type": "markdown",
   "metadata": {},
   "source": [
    "<h3>Practice</h3>"
   ]
  },
  {
   "cell_type": "markdown",
   "metadata": {},
   "source": [
    "Determine the derivative of $ y = 2x^3+x $ at $x=1$"
   ]
  },
  {
   "cell_type": "code",
   "execution_count": 23,
   "metadata": {},
   "outputs": [
    {
     "name": "stdout",
     "output_type": "stream",
     "text": [
      "The result of y = 2x^3 + x :  tensor([-2.0100e+03, -1.9980e+03, -1.9860e+03, -1.9741e+03, -1.9623e+03,\n",
      "        -1.9504e+03, -1.9387e+03, -1.9269e+03, -1.9153e+03, -1.9036e+03,\n",
      "        -1.8921e+03, -1.8805e+03, -1.8691e+03, -1.8576e+03, -1.8462e+03,\n",
      "        -1.8349e+03, -1.8236e+03, -1.8123e+03, -1.8011e+03, -1.7900e+03,\n",
      "        -1.7789e+03, -1.7678e+03, -1.7568e+03, -1.7458e+03, -1.7349e+03,\n",
      "        -1.7240e+03, -1.7131e+03, -1.7024e+03, -1.6916e+03, -1.6809e+03,\n",
      "        -1.6702e+03, -1.6596e+03, -1.6491e+03, -1.6386e+03, -1.6281e+03,\n",
      "        -1.6176e+03, -1.6073e+03, -1.5969e+03, -1.5866e+03, -1.5764e+03,\n",
      "        -1.5662e+03, -1.5560e+03, -1.5459e+03, -1.5358e+03, -1.5258e+03,\n",
      "        -1.5158e+03, -1.5059e+03, -1.4960e+03, -1.4861e+03, -1.4763e+03,\n",
      "        -1.4665e+03, -1.4568e+03, -1.4471e+03, -1.4375e+03, -1.4279e+03,\n",
      "        -1.4183e+03, -1.4088e+03, -1.3993e+03, -1.3899e+03, -1.3805e+03,\n",
      "        -1.3712e+03, -1.3619e+03, -1.3526e+03, -1.3434e+03, -1.3342e+03,\n",
      "        -1.3251e+03, -1.3160e+03, -1.3070e+03, -1.2980e+03, -1.2890e+03,\n",
      "        -1.2801e+03, -1.2712e+03, -1.2624e+03, -1.2536e+03, -1.2448e+03,\n",
      "        -1.2361e+03, -1.2274e+03, -1.2188e+03, -1.2102e+03, -1.2016e+03,\n",
      "        -1.1931e+03, -1.1847e+03, -1.1762e+03, -1.1678e+03, -1.1595e+03,\n",
      "        -1.1512e+03, -1.1429e+03, -1.1347e+03, -1.1265e+03, -1.1183e+03,\n",
      "        -1.1102e+03, -1.1021e+03, -1.0941e+03, -1.0861e+03, -1.0781e+03,\n",
      "        -1.0702e+03, -1.0624e+03, -1.0545e+03, -1.0467e+03, -1.0390e+03,\n",
      "        -1.0312e+03, -1.0235e+03, -1.0159e+03, -1.0083e+03, -1.0007e+03,\n",
      "        -9.9319e+02, -9.8570e+02, -9.7824e+02, -9.7082e+02, -9.6344e+02,\n",
      "        -9.5610e+02, -9.4879e+02, -9.4153e+02, -9.3429e+02, -9.2710e+02,\n",
      "        -9.1994e+02, -9.1283e+02, -9.0574e+02, -8.9870e+02, -8.9169e+02,\n",
      "        -8.8472e+02, -8.7778e+02, -8.7088e+02, -8.6402e+02, -8.5719e+02,\n",
      "        -8.5040e+02, -8.4365e+02, -8.3693e+02, -8.3025e+02, -8.2360e+02,\n",
      "        -8.1699e+02, -8.1042e+02, -8.0388e+02, -7.9737e+02, -7.9090e+02,\n",
      "        -7.8447e+02, -7.7807e+02, -7.7170e+02, -7.6538e+02, -7.5908e+02,\n",
      "        -7.5282e+02, -7.4660e+02, -7.4041e+02, -7.3425e+02, -7.2813e+02,\n",
      "        -7.2204e+02, -7.1599e+02, -7.0997e+02, -7.0398e+02, -6.9803e+02,\n",
      "        -6.9211e+02, -6.8623e+02, -6.8038e+02, -6.7456e+02, -6.6878e+02,\n",
      "        -6.6303e+02, -6.5731e+02, -6.5163e+02, -6.4598e+02, -6.4036e+02,\n",
      "        -6.3477e+02, -6.2922e+02, -6.2370e+02, -6.1821e+02, -6.1276e+02,\n",
      "        -6.0733e+02, -6.0194e+02, -5.9658e+02, -5.9126e+02, -5.8596e+02,\n",
      "        -5.8070e+02, -5.7547e+02, -5.7027e+02, -5.6510e+02, -5.5996e+02,\n",
      "        -5.5486e+02, -5.4978e+02, -5.4474e+02, -5.3973e+02, -5.3475e+02,\n",
      "        -5.2980e+02, -5.2488e+02, -5.1999e+02, -5.1513e+02, -5.1031e+02,\n",
      "        -5.0551e+02, -5.0074e+02, -4.9601e+02, -4.9130e+02, -4.8662e+02,\n",
      "        -4.8198e+02, -4.7736e+02, -4.7277e+02, -4.6821e+02, -4.6369e+02,\n",
      "        -4.5919e+02, -4.5472e+02, -4.5028e+02, -4.4587e+02, -4.4148e+02,\n",
      "        -4.3713e+02, -4.3281e+02, -4.2851e+02, -4.2425e+02, -4.2001e+02,\n",
      "        -4.1580e+02, -4.1162e+02, -4.0746e+02, -4.0334e+02, -3.9924e+02,\n",
      "        -3.9517e+02, -3.9113e+02, -3.8712e+02, -3.8313e+02, -3.7917e+02,\n",
      "        -3.7524e+02, -3.7134e+02, -3.6746e+02, -3.6362e+02, -3.5979e+02,\n",
      "        -3.5600e+02, -3.5223e+02, -3.4849e+02, -3.4478e+02, -3.4109e+02,\n",
      "        -3.3743e+02, -3.3379e+02, -3.3019e+02, -3.2660e+02, -3.2305e+02,\n",
      "        -3.1952e+02, -3.1601e+02, -3.1254e+02, -3.0908e+02, -3.0566e+02,\n",
      "        -3.0226e+02, -2.9888e+02, -2.9553e+02, -2.9221e+02, -2.8891e+02,\n",
      "        -2.8563e+02, -2.8238e+02, -2.7916e+02, -2.7596e+02, -2.7278e+02,\n",
      "        -2.6963e+02, -2.6651e+02, -2.6340e+02, -2.6033e+02, -2.5727e+02,\n",
      "        -2.5425e+02, -2.5124e+02, -2.4826e+02, -2.4530e+02, -2.4237e+02,\n",
      "        -2.3946e+02, -2.3657e+02, -2.3371e+02, -2.3087e+02, -2.2805e+02,\n",
      "        -2.2526e+02, -2.2249e+02, -2.1974e+02, -2.1702e+02, -2.1432e+02,\n",
      "        -2.1164e+02, -2.0898e+02, -2.0635e+02, -2.0374e+02, -2.0115e+02,\n",
      "        -1.9858e+02, -1.9604e+02, -1.9351e+02, -1.9101e+02, -1.8853e+02,\n",
      "        -1.8608e+02, -1.8364e+02, -1.8123e+02, -1.7883e+02, -1.7646e+02,\n",
      "        -1.7411e+02, -1.7178e+02, -1.6947e+02, -1.6719e+02, -1.6492e+02,\n",
      "        -1.6268e+02, -1.6045e+02, -1.5825e+02, -1.5606e+02, -1.5390e+02,\n",
      "        -1.5176e+02, -1.4963e+02, -1.4753e+02, -1.4545e+02, -1.4338e+02,\n",
      "        -1.4134e+02, -1.3932e+02, -1.3731e+02, -1.3533e+02, -1.3336e+02,\n",
      "        -1.3142e+02, -1.2949e+02, -1.2758e+02, -1.2570e+02, -1.2383e+02,\n",
      "        -1.2198e+02, -1.2014e+02, -1.1833e+02, -1.1654e+02, -1.1476e+02,\n",
      "        -1.1300e+02, -1.1126e+02, -1.0954e+02, -1.0784e+02, -1.0615e+02,\n",
      "        -1.0448e+02, -1.0283e+02, -1.0120e+02, -9.9586e+01, -9.7988e+01,\n",
      "        -9.6408e+01, -9.4846e+01, -9.3300e+01, -9.1772e+01, -9.0261e+01,\n",
      "        -8.8766e+01, -8.7289e+01, -8.5828e+01, -8.4383e+01, -8.2955e+01,\n",
      "        -8.1544e+01, -8.0149e+01, -7.8770e+01, -7.7407e+01, -7.6061e+01,\n",
      "        -7.4730e+01, -7.3415e+01, -7.2116e+01, -7.0832e+01, -6.9564e+01,\n",
      "        -6.8312e+01, -6.7075e+01, -6.5853e+01, -6.4646e+01, -6.3454e+01,\n",
      "        -6.2278e+01, -6.1116e+01, -5.9969e+01, -5.8837e+01, -5.7719e+01,\n",
      "        -5.6616e+01, -5.5527e+01, -5.4452e+01, -5.3392e+01, -5.2345e+01,\n",
      "        -5.1313e+01, -5.0295e+01, -4.9290e+01, -4.8299e+01, -4.7322e+01,\n",
      "        -4.6359e+01, -4.5408e+01, -4.4472e+01, -4.3548e+01, -4.2637e+01,\n",
      "        -4.1740e+01, -4.0855e+01, -3.9984e+01, -3.9125e+01, -3.8279e+01,\n",
      "        -3.7445e+01, -3.6624e+01, -3.5815e+01, -3.5018e+01, -3.4234e+01,\n",
      "        -3.3462e+01, -3.2702e+01, -3.1953e+01, -3.1217e+01, -3.0492e+01,\n",
      "        -2.9778e+01, -2.9077e+01, -2.8386e+01, -2.7707e+01, -2.7039e+01,\n",
      "        -2.6382e+01, -2.5737e+01, -2.5102e+01, -2.4478e+01, -2.3865e+01,\n",
      "        -2.3262e+01, -2.2670e+01, -2.2089e+01, -2.1517e+01, -2.0956e+01,\n",
      "        -2.0406e+01, -1.9865e+01, -1.9334e+01, -1.8813e+01, -1.8302e+01,\n",
      "        -1.7801e+01, -1.7309e+01, -1.6826e+01, -1.6353e+01, -1.5890e+01,\n",
      "        -1.5435e+01, -1.4990e+01, -1.4553e+01, -1.4126e+01, -1.3707e+01,\n",
      "        -1.3297e+01, -1.2896e+01, -1.2503e+01, -1.2118e+01, -1.1742e+01,\n",
      "        -1.1374e+01, -1.1015e+01, -1.0663e+01, -1.0319e+01, -9.9833e+00,\n",
      "        -9.6551e+00, -9.3346e+00, -9.0217e+00, -8.7162e+00, -8.4181e+00,\n",
      "        -8.1273e+00, -7.8436e+00, -7.5670e+00, -7.2974e+00, -7.0347e+00,\n",
      "        -6.7788e+00, -6.5295e+00, -6.2869e+00, -6.0507e+00, -5.8210e+00,\n",
      "        -5.5976e+00, -5.3804e+00, -5.1692e+00, -4.9642e+00, -4.7650e+00,\n",
      "        -4.5716e+00, -4.3840e+00, -4.2020e+00, -4.0256e+00, -3.8546e+00,\n",
      "        -3.6889e+00, -3.5285e+00, -3.3733e+00, -3.2231e+00, -3.0778e+00,\n",
      "        -2.9374e+00, -2.8018e+00, -2.6709e+00, -2.5445e+00, -2.4226e+00,\n",
      "        -2.3051e+00, -2.1918e+00, -2.0828e+00, -1.9778e+00, -1.8769e+00,\n",
      "        -1.7798e+00, -1.6866e+00, -1.5970e+00, -1.5111e+00, -1.4287e+00,\n",
      "        -1.3497e+00, -1.2740e+00, -1.2016e+00, -1.1322e+00, -1.0659e+00,\n",
      "        -1.0026e+00, -9.4207e-01, -8.8430e-01, -8.2918e-01, -7.7661e-01,\n",
      "        -7.2650e-01, -6.7874e-01, -6.3325e-01, -5.8992e-01, -5.4867e-01,\n",
      "        -5.0939e-01, -4.7198e-01, -4.3636e-01, -4.0242e-01, -3.7007e-01,\n",
      "        -3.3922e-01, -3.0975e-01, -2.8159e-01, -2.5464e-01, -2.2879e-01,\n",
      "        -2.0395e-01, -1.8003e-01, -1.5692e-01, -1.3454e-01, -1.1278e-01,\n",
      "        -9.1553e-02, -7.0758e-02, -5.0301e-02, -3.0084e-02, -1.0013e-02,\n",
      "         1.0012e-02,  3.0083e-02,  5.0301e-02,  7.0757e-02,  9.1552e-02,\n",
      "         1.1278e-01,  1.3454e-01,  1.5692e-01,  1.8003e-01,  2.0395e-01,\n",
      "         2.2879e-01,  2.5464e-01,  2.8159e-01,  3.0975e-01,  3.3921e-01,\n",
      "         3.7007e-01,  4.0242e-01,  4.3636e-01,  4.7198e-01,  5.0939e-01,\n",
      "         5.4867e-01,  5.8992e-01,  6.3325e-01,  6.7874e-01,  7.2649e-01,\n",
      "         7.7661e-01,  8.2918e-01,  8.8430e-01,  9.4207e-01,  1.0026e+00,\n",
      "         1.0659e+00,  1.1322e+00,  1.2015e+00,  1.2740e+00,  1.3497e+00,\n",
      "         1.4287e+00,  1.5111e+00,  1.5970e+00,  1.6866e+00,  1.7798e+00,\n",
      "         1.8769e+00,  1.9778e+00,  2.0828e+00,  2.1918e+00,  2.3051e+00,\n",
      "         2.4226e+00,  2.5445e+00,  2.6709e+00,  2.8018e+00,  2.9374e+00,\n",
      "         3.0778e+00,  3.2231e+00,  3.3733e+00,  3.5285e+00,  3.6889e+00,\n",
      "         3.8546e+00,  4.0256e+00,  4.2020e+00,  4.3840e+00,  4.5716e+00,\n",
      "         4.7650e+00,  4.9641e+00,  5.1692e+00,  5.3803e+00,  5.5976e+00,\n",
      "         5.8210e+00,  6.0507e+00,  6.2869e+00,  6.5295e+00,  6.7788e+00,\n",
      "         7.0347e+00,  7.2974e+00,  7.5670e+00,  7.8436e+00,  8.1273e+00,\n",
      "         8.4181e+00,  8.7162e+00,  9.0217e+00,  9.3346e+00,  9.6551e+00,\n",
      "         9.9833e+00,  1.0319e+01,  1.0663e+01,  1.1015e+01,  1.1374e+01,\n",
      "         1.1742e+01,  1.2118e+01,  1.2503e+01,  1.2896e+01,  1.3297e+01,\n",
      "         1.3707e+01,  1.4126e+01,  1.4553e+01,  1.4990e+01,  1.5435e+01,\n",
      "         1.5890e+01,  1.6353e+01,  1.6826e+01,  1.7309e+01,  1.7801e+01,\n",
      "         1.8302e+01,  1.8813e+01,  1.9334e+01,  1.9865e+01,  2.0406e+01,\n",
      "         2.0956e+01,  2.1517e+01,  2.2089e+01,  2.2670e+01,  2.3262e+01,\n",
      "         2.3865e+01,  2.4478e+01,  2.5102e+01,  2.5737e+01,  2.6382e+01,\n",
      "         2.7039e+01,  2.7707e+01,  2.8386e+01,  2.9076e+01,  2.9778e+01,\n",
      "         3.0492e+01,  3.1217e+01,  3.1953e+01,  3.2702e+01,  3.3462e+01,\n",
      "         3.4234e+01,  3.5018e+01,  3.5815e+01,  3.6624e+01,  3.7445e+01,\n",
      "         3.8279e+01,  3.9125e+01,  3.9984e+01,  4.0855e+01,  4.1740e+01,\n",
      "         4.2637e+01,  4.3548e+01,  4.4472e+01,  4.5408e+01,  4.6359e+01,\n",
      "         4.7322e+01,  4.8299e+01,  4.9290e+01,  5.0295e+01,  5.1313e+01,\n",
      "         5.2345e+01,  5.3392e+01,  5.4452e+01,  5.5527e+01,  5.6615e+01,\n",
      "         5.7719e+01,  5.8836e+01,  5.9969e+01,  6.1116e+01,  6.2278e+01,\n",
      "         6.3454e+01,  6.4646e+01,  6.5853e+01,  6.7075e+01,  6.8312e+01,\n",
      "         6.9564e+01,  7.0832e+01,  7.2116e+01,  7.3415e+01,  7.4730e+01,\n",
      "         7.6061e+01,  7.7407e+01,  7.8770e+01,  8.0149e+01,  8.1544e+01,\n",
      "         8.2955e+01,  8.4383e+01,  8.5828e+01,  8.7288e+01,  8.8766e+01,\n",
      "         9.0261e+01,  9.1772e+01,  9.3300e+01,  9.4846e+01,  9.6408e+01,\n",
      "         9.7988e+01,  9.9585e+01,  1.0120e+02,  1.0283e+02,  1.0448e+02,\n",
      "         1.0615e+02,  1.0784e+02,  1.0954e+02,  1.1126e+02,  1.1300e+02,\n",
      "         1.1476e+02,  1.1654e+02,  1.1833e+02,  1.2014e+02,  1.2198e+02,\n",
      "         1.2383e+02,  1.2570e+02,  1.2758e+02,  1.2949e+02,  1.3142e+02,\n",
      "         1.3336e+02,  1.3533e+02,  1.3731e+02,  1.3932e+02,  1.4134e+02,\n",
      "         1.4338e+02,  1.4545e+02,  1.4753e+02,  1.4963e+02,  1.5176e+02,\n",
      "         1.5390e+02,  1.5606e+02,  1.5825e+02,  1.6045e+02,  1.6268e+02,\n",
      "         1.6492e+02,  1.6719e+02,  1.6947e+02,  1.7178e+02,  1.7411e+02,\n",
      "         1.7646e+02,  1.7883e+02,  1.8123e+02,  1.8364e+02,  1.8608e+02,\n",
      "         1.8853e+02,  1.9101e+02,  1.9351e+02,  1.9604e+02,  1.9858e+02,\n",
      "         2.0115e+02,  2.0374e+02,  2.0635e+02,  2.0898e+02,  2.1164e+02,\n",
      "         2.1432e+02,  2.1702e+02,  2.1974e+02,  2.2249e+02,  2.2526e+02,\n",
      "         2.2805e+02,  2.3087e+02,  2.3371e+02,  2.3657e+02,  2.3946e+02,\n",
      "         2.4237e+02,  2.4530e+02,  2.4826e+02,  2.5124e+02,  2.5424e+02,\n",
      "         2.5727e+02,  2.6033e+02,  2.6340e+02,  2.6651e+02,  2.6963e+02,\n",
      "         2.7278e+02,  2.7596e+02,  2.7916e+02,  2.8238e+02,  2.8563e+02,\n",
      "         2.8891e+02,  2.9221e+02,  2.9553e+02,  2.9888e+02,  3.0226e+02,\n",
      "         3.0566e+02,  3.0908e+02,  3.1254e+02,  3.1601e+02,  3.1952e+02,\n",
      "         3.2305e+02,  3.2660e+02,  3.3019e+02,  3.3379e+02,  3.3743e+02,\n",
      "         3.4109e+02,  3.4478e+02,  3.4849e+02,  3.5223e+02,  3.5600e+02,\n",
      "         3.5979e+02,  3.6362e+02,  3.6746e+02,  3.7134e+02,  3.7524e+02,\n",
      "         3.7917e+02,  3.8313e+02,  3.8712e+02,  3.9113e+02,  3.9517e+02,\n",
      "         3.9924e+02,  4.0334e+02,  4.0746e+02,  4.1162e+02,  4.1580e+02,\n",
      "         4.2001e+02,  4.2425e+02,  4.2851e+02,  4.3281e+02,  4.3713e+02,\n",
      "         4.4148e+02,  4.4587e+02,  4.5028e+02,  4.5472e+02,  4.5919e+02,\n",
      "         4.6369e+02,  4.6821e+02,  4.7277e+02,  4.7736e+02,  4.8198e+02,\n",
      "         4.8662e+02,  4.9130e+02,  4.9601e+02,  5.0074e+02,  5.0551e+02,\n",
      "         5.1031e+02,  5.1513e+02,  5.1999e+02,  5.2488e+02,  5.2980e+02,\n",
      "         5.3475e+02,  5.3973e+02,  5.4474e+02,  5.4978e+02,  5.5486e+02,\n",
      "         5.5996e+02,  5.6510e+02,  5.7027e+02,  5.7547e+02,  5.8070e+02,\n",
      "         5.8596e+02,  5.9126e+02,  5.9658e+02,  6.0194e+02,  6.0733e+02,\n",
      "         6.1276e+02,  6.1821e+02,  6.2370e+02,  6.2922e+02,  6.3477e+02,\n",
      "         6.4036e+02,  6.4598e+02,  6.5163e+02,  6.5731e+02,  6.6303e+02,\n",
      "         6.6878e+02,  6.7456e+02,  6.8038e+02,  6.8623e+02,  6.9211e+02,\n",
      "         6.9803e+02,  7.0398e+02,  7.0997e+02,  7.1599e+02,  7.2204e+02,\n",
      "         7.2813e+02,  7.3425e+02,  7.4041e+02,  7.4660e+02,  7.5282e+02,\n",
      "         7.5908e+02,  7.6538e+02,  7.7170e+02,  7.7807e+02,  7.8447e+02,\n",
      "         7.9090e+02,  7.9737e+02,  8.0388e+02,  8.1041e+02,  8.1699e+02,\n",
      "         8.2360e+02,  8.3025e+02,  8.3693e+02,  8.4365e+02,  8.5040e+02,\n",
      "         8.5719e+02,  8.6402e+02,  8.7088e+02,  8.7778e+02,  8.8472e+02,\n",
      "         8.9169e+02,  8.9870e+02,  9.0574e+02,  9.1283e+02,  9.1994e+02,\n",
      "         9.2710e+02,  9.3429e+02,  9.4152e+02,  9.4879e+02,  9.5610e+02,\n",
      "         9.6344e+02,  9.7082e+02,  9.7824e+02,  9.8569e+02,  9.9319e+02,\n",
      "         1.0007e+03,  1.0083e+03,  1.0159e+03,  1.0235e+03,  1.0312e+03,\n",
      "         1.0390e+03,  1.0467e+03,  1.0545e+03,  1.0624e+03,  1.0702e+03,\n",
      "         1.0781e+03,  1.0861e+03,  1.0941e+03,  1.1021e+03,  1.1102e+03,\n",
      "         1.1183e+03,  1.1265e+03,  1.1347e+03,  1.1429e+03,  1.1512e+03,\n",
      "         1.1595e+03,  1.1678e+03,  1.1762e+03,  1.1847e+03,  1.1931e+03,\n",
      "         1.2016e+03,  1.2102e+03,  1.2188e+03,  1.2274e+03,  1.2361e+03,\n",
      "         1.2448e+03,  1.2536e+03,  1.2624e+03,  1.2712e+03,  1.2801e+03,\n",
      "         1.2890e+03,  1.2980e+03,  1.3070e+03,  1.3160e+03,  1.3251e+03,\n",
      "         1.3342e+03,  1.3434e+03,  1.3526e+03,  1.3619e+03,  1.3712e+03,\n",
      "         1.3805e+03,  1.3899e+03,  1.3993e+03,  1.4088e+03,  1.4183e+03,\n",
      "         1.4279e+03,  1.4375e+03,  1.4471e+03,  1.4568e+03,  1.4665e+03,\n",
      "         1.4763e+03,  1.4861e+03,  1.4960e+03,  1.5059e+03,  1.5158e+03,\n",
      "         1.5258e+03,  1.5358e+03,  1.5459e+03,  1.5560e+03,  1.5662e+03,\n",
      "         1.5764e+03,  1.5866e+03,  1.5969e+03,  1.6073e+03,  1.6176e+03,\n",
      "         1.6281e+03,  1.6386e+03,  1.6491e+03,  1.6596e+03,  1.6702e+03,\n",
      "         1.6809e+03,  1.6916e+03,  1.7024e+03,  1.7131e+03,  1.7240e+03,\n",
      "         1.7349e+03,  1.7458e+03,  1.7568e+03,  1.7678e+03,  1.7788e+03,\n",
      "         1.7900e+03,  1.8011e+03,  1.8123e+03,  1.8236e+03,  1.8349e+03,\n",
      "         1.8462e+03,  1.8576e+03,  1.8691e+03,  1.8805e+03,  1.8921e+03,\n",
      "         1.9036e+03,  1.9153e+03,  1.9269e+03,  1.9387e+03,  1.9504e+03,\n",
      "         1.9623e+03,  1.9741e+03,  1.9860e+03,  1.9980e+03,  2.0100e+03],\n",
      "       grad_fn=<AddBackward0>)\n"
     ]
    },
    {
     "ename": "RuntimeError",
     "evalue": "grad can be implicitly created only for scalar outputs",
     "output_type": "error",
     "traceback": [
      "\u001b[0;31m---------------------------------------------------------------------------\u001b[0m",
      "\u001b[0;31mRuntimeError\u001b[0m                              Traceback (most recent call last)",
      "\u001b[0;32m<ipython-input-23-80c832349bee>\u001b[0m in \u001b[0;36m<module>\u001b[0;34m\u001b[0m\n\u001b[1;32m      6\u001b[0m \u001b[0my\u001b[0m \u001b[0;34m=\u001b[0m \u001b[0;36m2\u001b[0m \u001b[0;34m*\u001b[0m \u001b[0mx\u001b[0m \u001b[0;34m**\u001b[0m \u001b[0;36m3\u001b[0m \u001b[0;34m+\u001b[0m \u001b[0mx\u001b[0m\u001b[0;34m\u001b[0m\u001b[0;34m\u001b[0m\u001b[0m\n\u001b[1;32m      7\u001b[0m \u001b[0mprint\u001b[0m\u001b[0;34m(\u001b[0m\u001b[0;34m\"The result of y = 2x^3 + x : \"\u001b[0m\u001b[0;34m,\u001b[0m \u001b[0my\u001b[0m\u001b[0;34m)\u001b[0m\u001b[0;34m\u001b[0m\u001b[0;34m\u001b[0m\u001b[0m\n\u001b[0;32m----> 8\u001b[0;31m \u001b[0my\u001b[0m\u001b[0;34m.\u001b[0m\u001b[0mbackward\u001b[0m\u001b[0;34m(\u001b[0m\u001b[0;34m)\u001b[0m\u001b[0;34m\u001b[0m\u001b[0;34m\u001b[0m\u001b[0m\n\u001b[0m\u001b[1;32m      9\u001b[0m \u001b[0mprint\u001b[0m\u001b[0;34m(\u001b[0m\u001b[0;34m\"The dervative at x = 1: \"\u001b[0m\u001b[0;34m,\u001b[0m \u001b[0mx\u001b[0m\u001b[0;34m.\u001b[0m\u001b[0mgrad\u001b[0m\u001b[0;34m)\u001b[0m\u001b[0;34m\u001b[0m\u001b[0;34m\u001b[0m\u001b[0m\n",
      "\u001b[0;32m~/conda/envs/python/lib/python3.6/site-packages/torch/tensor.py\u001b[0m in \u001b[0;36mbackward\u001b[0;34m(self, gradient, retain_graph, create_graph)\u001b[0m\n\u001b[1;32m    164\u001b[0m                 \u001b[0mproducts\u001b[0m\u001b[0;34m.\u001b[0m \u001b[0mDefaults\u001b[0m \u001b[0mto\u001b[0m\u001b[0;31m \u001b[0m\u001b[0;31m`\u001b[0m\u001b[0;31m`\u001b[0m\u001b[0;32mFalse\u001b[0m\u001b[0;31m`\u001b[0m\u001b[0;31m`\u001b[0m\u001b[0;34m.\u001b[0m\u001b[0;34m\u001b[0m\u001b[0;34m\u001b[0m\u001b[0m\n\u001b[1;32m    165\u001b[0m         \"\"\"\n\u001b[0;32m--> 166\u001b[0;31m         \u001b[0mtorch\u001b[0m\u001b[0;34m.\u001b[0m\u001b[0mautograd\u001b[0m\u001b[0;34m.\u001b[0m\u001b[0mbackward\u001b[0m\u001b[0;34m(\u001b[0m\u001b[0mself\u001b[0m\u001b[0;34m,\u001b[0m \u001b[0mgradient\u001b[0m\u001b[0;34m,\u001b[0m \u001b[0mretain_graph\u001b[0m\u001b[0;34m,\u001b[0m \u001b[0mcreate_graph\u001b[0m\u001b[0;34m)\u001b[0m\u001b[0;34m\u001b[0m\u001b[0;34m\u001b[0m\u001b[0m\n\u001b[0m\u001b[1;32m    167\u001b[0m \u001b[0;34m\u001b[0m\u001b[0m\n\u001b[1;32m    168\u001b[0m     \u001b[0;32mdef\u001b[0m \u001b[0mregister_hook\u001b[0m\u001b[0;34m(\u001b[0m\u001b[0mself\u001b[0m\u001b[0;34m,\u001b[0m \u001b[0mhook\u001b[0m\u001b[0;34m)\u001b[0m\u001b[0;34m:\u001b[0m\u001b[0;34m\u001b[0m\u001b[0;34m\u001b[0m\u001b[0m\n",
      "\u001b[0;32m~/conda/envs/python/lib/python3.6/site-packages/torch/autograd/__init__.py\u001b[0m in \u001b[0;36mbackward\u001b[0;34m(tensors, grad_tensors, retain_graph, create_graph, grad_variables)\u001b[0m\n\u001b[1;32m     91\u001b[0m         \u001b[0mgrad_tensors\u001b[0m \u001b[0;34m=\u001b[0m \u001b[0mlist\u001b[0m\u001b[0;34m(\u001b[0m\u001b[0mgrad_tensors\u001b[0m\u001b[0;34m)\u001b[0m\u001b[0;34m\u001b[0m\u001b[0;34m\u001b[0m\u001b[0m\n\u001b[1;32m     92\u001b[0m \u001b[0;34m\u001b[0m\u001b[0m\n\u001b[0;32m---> 93\u001b[0;31m     \u001b[0mgrad_tensors\u001b[0m \u001b[0;34m=\u001b[0m \u001b[0m_make_grads\u001b[0m\u001b[0;34m(\u001b[0m\u001b[0mtensors\u001b[0m\u001b[0;34m,\u001b[0m \u001b[0mgrad_tensors\u001b[0m\u001b[0;34m)\u001b[0m\u001b[0;34m\u001b[0m\u001b[0;34m\u001b[0m\u001b[0m\n\u001b[0m\u001b[1;32m     94\u001b[0m     \u001b[0;32mif\u001b[0m \u001b[0mretain_graph\u001b[0m \u001b[0;32mis\u001b[0m \u001b[0;32mNone\u001b[0m\u001b[0;34m:\u001b[0m\u001b[0;34m\u001b[0m\u001b[0;34m\u001b[0m\u001b[0m\n\u001b[1;32m     95\u001b[0m         \u001b[0mretain_graph\u001b[0m \u001b[0;34m=\u001b[0m \u001b[0mcreate_graph\u001b[0m\u001b[0;34m\u001b[0m\u001b[0;34m\u001b[0m\u001b[0m\n",
      "\u001b[0;32m~/conda/envs/python/lib/python3.6/site-packages/torch/autograd/__init__.py\u001b[0m in \u001b[0;36m_make_grads\u001b[0;34m(outputs, grads)\u001b[0m\n\u001b[1;32m     32\u001b[0m             \u001b[0;32mif\u001b[0m \u001b[0mout\u001b[0m\u001b[0;34m.\u001b[0m\u001b[0mrequires_grad\u001b[0m\u001b[0;34m:\u001b[0m\u001b[0;34m\u001b[0m\u001b[0;34m\u001b[0m\u001b[0m\n\u001b[1;32m     33\u001b[0m                 \u001b[0;32mif\u001b[0m \u001b[0mout\u001b[0m\u001b[0;34m.\u001b[0m\u001b[0mnumel\u001b[0m\u001b[0;34m(\u001b[0m\u001b[0;34m)\u001b[0m \u001b[0;34m!=\u001b[0m \u001b[0;36m1\u001b[0m\u001b[0;34m:\u001b[0m\u001b[0;34m\u001b[0m\u001b[0;34m\u001b[0m\u001b[0m\n\u001b[0;32m---> 34\u001b[0;31m                     \u001b[0;32mraise\u001b[0m \u001b[0mRuntimeError\u001b[0m\u001b[0;34m(\u001b[0m\u001b[0;34m\"grad can be implicitly created only for scalar outputs\"\u001b[0m\u001b[0;34m)\u001b[0m\u001b[0;34m\u001b[0m\u001b[0;34m\u001b[0m\u001b[0m\n\u001b[0m\u001b[1;32m     35\u001b[0m                 \u001b[0mnew_grads\u001b[0m\u001b[0;34m.\u001b[0m\u001b[0mappend\u001b[0m\u001b[0;34m(\u001b[0m\u001b[0mtorch\u001b[0m\u001b[0;34m.\u001b[0m\u001b[0mones_like\u001b[0m\u001b[0;34m(\u001b[0m\u001b[0mout\u001b[0m\u001b[0;34m)\u001b[0m\u001b[0;34m)\u001b[0m\u001b[0;34m\u001b[0m\u001b[0;34m\u001b[0m\u001b[0m\n\u001b[1;32m     36\u001b[0m             \u001b[0;32melse\u001b[0m\u001b[0;34m:\u001b[0m\u001b[0;34m\u001b[0m\u001b[0;34m\u001b[0m\u001b[0m\n",
      "\u001b[0;31mRuntimeError\u001b[0m: grad can be implicitly created only for scalar outputs"
     ]
    }
   ],
   "source": [
    "# Practice: Calculate the derivative of y = 2x^3 + x at x = 1\n",
    "\n",
    "# Type your code here\n",
    "x = torch.linspace(-10, 10, 1000, requires_grad = True)\n",
    "# x = torch.tensor(1.0, requires_grad = True)\n",
    "y = 2 * x ** 3 + x\n",
    "print(\"The result of y = 2x^3 + x : \", y)\n",
    "y.backward()\n",
    "print(\"The dervative at x = 1: \", x.grad)"
   ]
  },
  {
   "cell_type": "markdown",
   "metadata": {},
   "source": [
    "Double-click <b>here</b> for the solution.\n",
    "<!-- \n",
    "x = torch.tensor(1.0, requires_grad=True)\n",
    "y = 2 * x ** 3 + x\n",
    "y.backward()\n",
    "print(\"The derivative result: \", x.grad)\n",
    " -->"
   ]
  },
  {
   "cell_type": "markdown",
   "metadata": {},
   "source": [
    "<!--Empty Space for separating topics-->"
   ]
  },
  {
   "cell_type": "markdown",
   "metadata": {},
   "source": [
    " We can implement our own custom autograd Functions by subclassing\n",
    "    torch.autograd.Function and implementing the forward and backward passes\n",
    "    which operate on Tensors"
   ]
  },
  {
   "cell_type": "code",
   "execution_count": 16,
   "metadata": {},
   "outputs": [],
   "source": [
    "class SQ(torch.autograd.Function):\n",
    "\n",
    "\n",
    "    @staticmethod\n",
    "    def forward(ctx,i):\n",
    "        \"\"\"\n",
    "        In the forward pass we receive a Tensor containing the input and return\n",
    "        a Tensor containing the output. ctx is a context object that can be used\n",
    "        to stash information for backward computation. You can cache arbitrary\n",
    "        objects for use in the backward pass using the ctx.save_for_backward method.\n",
    "        \"\"\"\n",
    "        result=i**2\n",
    "        ctx.save_for_backward(i)\n",
    "        return result\n",
    "\n",
    "    @staticmethod\n",
    "    def backward(ctx, grad_output):\n",
    "        \"\"\"\n",
    "        In the backward pass we receive a Tensor containing the gradient of the loss\n",
    "        with respect to the output, and we need to compute the gradient of the loss\n",
    "        with respect to the input.\n",
    "        \"\"\"\n",
    "        i, = ctx.saved_tensors\n",
    "        grad_output = 2*i\n",
    "        return grad_output"
   ]
  },
  {
   "cell_type": "markdown",
   "metadata": {},
   "source": [
    "We can apply it the function  "
   ]
  },
  {
   "cell_type": "code",
   "execution_count": 17,
   "metadata": {},
   "outputs": [
    {
     "name": "stdout",
     "output_type": "stream",
     "text": [
      "<torch.autograd.function.SQBackward object at 0x7f9552607668>\n"
     ]
    },
    {
     "data": {
      "text/plain": [
       "tensor(4.)"
      ]
     },
     "execution_count": 17,
     "metadata": {},
     "output_type": "execute_result"
    }
   ],
   "source": [
    "x=torch.tensor(2.0,requires_grad=True )\n",
    "sq=SQ.apply\n",
    "\n",
    "y=sq(x)\n",
    "y\n",
    "print(y.grad_fn)\n",
    "y.backward()\n",
    "x.grad"
   ]
  },
  {
   "cell_type": "markdown",
   "metadata": {},
   "source": [
    "<h2 id=\"Partial_Derivative\">Partial Derivatives</h2>"
   ]
  },
  {
   "cell_type": "markdown",
   "metadata": {},
   "source": [
    "We can also calculate <b>Partial Derivatives</b>. Consider the function: $f(u,v)=vu+u^{2}$"
   ]
  },
  {
   "cell_type": "markdown",
   "metadata": {},
   "source": [
    "Let us create <code>u</code> tensor, <code>v</code> tensor and  <code>f</code> tensor"
   ]
  },
  {
   "cell_type": "code",
   "execution_count": 18,
   "metadata": {},
   "outputs": [
    {
     "name": "stdout",
     "output_type": "stream",
     "text": [
      "The result of v * u + u^2:  tensor(3., grad_fn=<AddBackward0>)\n"
     ]
    }
   ],
   "source": [
    "# Calculate f(u, v) = v * u + u^2 at u = 1, v = 2\n",
    "\n",
    "u = torch.tensor(1.0,requires_grad=True)\n",
    "v = torch.tensor(2.0,requires_grad=True)\n",
    "f = u * v + u ** 2\n",
    "print(\"The result of v * u + u^2: \", f)"
   ]
  },
  {
   "cell_type": "markdown",
   "metadata": {},
   "source": [
    "This is equivalent to the following: "
   ]
  },
  {
   "cell_type": "markdown",
   "metadata": {},
   "source": [
    "$f(u=1,v=2)=(2)(1)+1^{2}=3$"
   ]
  },
  {
   "cell_type": "markdown",
   "metadata": {},
   "source": [
    "<!--Empty Space for separating topics-->"
   ]
  },
  {
   "cell_type": "markdown",
   "metadata": {},
   "source": [
    "Now let us take the derivative with respect to <code>u</code>:"
   ]
  },
  {
   "cell_type": "code",
   "execution_count": 19,
   "metadata": {},
   "outputs": [
    {
     "name": "stdout",
     "output_type": "stream",
     "text": [
      "The partial derivative with respect to u:  tensor(4.)\n"
     ]
    }
   ],
   "source": [
    "# Calculate the derivative with respect to u\n",
    "\n",
    "f.backward()\n",
    "print(\"The partial derivative with respect to u: \", u.grad)"
   ]
  },
  {
   "cell_type": "markdown",
   "metadata": {},
   "source": [
    "the expression is given by:"
   ]
  },
  {
   "cell_type": "markdown",
   "metadata": {},
   "source": [
    "$\\frac{\\mathrm{\\partial f(u,v)}}{\\partial {u}}=v+2u$\n",
    "\n",
    "$\\frac{\\mathrm{\\partial f(u=1,v=2)}}{\\partial {u}}=2+2(1)=4$"
   ]
  },
  {
   "cell_type": "markdown",
   "metadata": {},
   "source": [
    "<!--Empty Space for separating topics-->"
   ]
  },
  {
   "cell_type": "markdown",
   "metadata": {},
   "source": [
    "Now, take the derivative with respect to <code>v</code>:"
   ]
  },
  {
   "cell_type": "code",
   "execution_count": 20,
   "metadata": {},
   "outputs": [
    {
     "name": "stdout",
     "output_type": "stream",
     "text": [
      "The partial derivative with respect to u:  tensor(1.)\n"
     ]
    }
   ],
   "source": [
    "# Calculate the derivative with respect to v\n",
    "\n",
    "print(\"The partial derivative with respect to u: \", v.grad)"
   ]
  },
  {
   "cell_type": "markdown",
   "metadata": {},
   "source": [
    "The equation is given by:"
   ]
  },
  {
   "cell_type": "markdown",
   "metadata": {},
   "source": [
    "$\\frac{\\mathrm{\\partial f(u,v)}}{\\partial {v}}=u$\n",
    "\n",
    "$\\frac{\\mathrm{\\partial f(u=1,v=2)}}{\\partial {v}}=1$"
   ]
  },
  {
   "cell_type": "markdown",
   "metadata": {},
   "source": [
    "<!--Empty Space for separating topics-->"
   ]
  },
  {
   "cell_type": "markdown",
   "metadata": {},
   "source": [
    "Calculate the derivative with respect to a function with multiple values as follows. You use the sum trick to produce a scalar valued function and then take the gradient: "
   ]
  },
  {
   "cell_type": "code",
   "execution_count": 21,
   "metadata": {},
   "outputs": [],
   "source": [
    "# Calculate the derivative with multiple values\n",
    "\n",
    "x = torch.linspace(-10, 10, 10, requires_grad = True)\n",
    "Y = x ** 2\n",
    "y = torch.sum(x ** 2)"
   ]
  },
  {
   "cell_type": "markdown",
   "metadata": {},
   "source": [
    "We can plot the function  and its derivative "
   ]
  },
  {
   "cell_type": "code",
   "execution_count": 22,
   "metadata": {},
   "outputs": [
    {
     "data": {
      "image/png": "[encoded data removed]",
      "text/plain": [
       "<Figure size 432x288 with 1 Axes>"
      ]
     },
     "metadata": {
      "needs_background": "light"
     },
     "output_type": "display_data"
    }
   ],
   "source": [
    "# Take the derivative with respect to multiple value. Plot out the function and its derivative\n",
    "\n",
    "y.backward()\n",
    "\n",
    "plt.plot(x.detach().numpy(), Y.detach().numpy(), label = 'function')\n",
    "plt.plot(x.detach().numpy(), x.grad.detach().numpy(), label = 'derivative')\n",
    "plt.xlabel('x')\n",
    "plt.legend()\n",
    "plt.show()"
   ]
  },
  {
   "cell_type": "markdown",
   "metadata": {},
   "source": [
    "The orange line is the slope of the blue line at the intersection point, which is the derivative of the blue line."
   ]
  },
  {
   "cell_type": "markdown",
   "metadata": {},
   "source": [
    "The  method <code> detach()</code>  excludes further tracking of operations in the graph, and therefore the subgraph will not record operations. This allows us to then convert the tensor to a numpy array. To understand the sum operation  <a href=\"https://pytorch.org/tutorials/beginner/blitz/autograd_tutorial.html\">Click Here</a>\n",
    "\n"
   ]
  },
  {
   "cell_type": "markdown",
   "metadata": {},
   "source": [
    "<!--Empty Space for separating topics-->"
   ]
  },
  {
   "cell_type": "markdown",
   "metadata": {},
   "source": [
    "The <b>relu</b> activation function is an essential function in neural networks. We can take the derivative as follows: "
   ]
  },
  {
   "cell_type": "code",
   "execution_count": null,
   "metadata": {
    "collapsed": true,
    "jupyter": {
     "outputs_hidden": true
    }
   },
   "outputs": [],
   "source": []
  },
  {
   "cell_type": "code",
   "execution_count": 24,
   "metadata": {},
   "outputs": [
    {
     "data": {
      "image/png": "[encoded data removed]",
      "text/plain": [
       "<Figure size 432x288 with 1 Axes>"
      ]
     },
     "metadata": {
      "needs_background": "light"
     },
     "output_type": "display_data"
    }
   ],
   "source": [
    "# Take the derivative of Relu with respect to multiple value. Plot out the function and its derivative\n",
    "\n",
    "x = torch.linspace(-10, 10, 1000, requires_grad = True)\n",
    "Y = torch.relu(x)\n",
    "y = Y.sum()\n",
    "y.backward()\n",
    "plt.plot(x.detach().numpy(), Y.detach().numpy(), label = 'function')\n",
    "plt.plot(x.detach().numpy(), x.grad.detach().numpy(), label = 'derivative')\n",
    "plt.xlabel('x')\n",
    "plt.legend()\n",
    "plt.show()"
   ]
  },
  {
   "cell_type": "markdown",
   "metadata": {},
   "source": [
    "<!--Empty Space for separating topics-->"
   ]
  },
  {
   "cell_type": "code",
   "execution_count": 25,
   "metadata": {},
   "outputs": [
    {
     "data": {
      "text/plain": [
       "<SumBackward0 at 0x7f94bdf5e5f8>"
      ]
     },
     "execution_count": 25,
     "metadata": {},
     "output_type": "execute_result"
    }
   ],
   "source": [
    "y.grad_fn"
   ]
  },
  {
   "cell_type": "markdown",
   "metadata": {},
   "source": [
    "<h3>Practice</h3>"
   ]
  },
  {
   "cell_type": "markdown",
   "metadata": {},
   "source": [
    "Try to determine partial derivative  $u$ of the following function where $u=2$ and $v=1$: $ f=uv+(uv)^2$"
   ]
  },
  {
   "cell_type": "code",
   "execution_count": null,
   "metadata": {},
   "outputs": [],
   "source": [
    "# Practice: Calculate the derivative of f = u * v + (u * v) ** 2 at u = 2, v = 1\n",
    "\n",
    "# Type the code here"
   ]
  },
  {
   "cell_type": "markdown",
   "metadata": {},
   "source": [
    "Double-click __here__ for the solution.\n",
    "<!-- \n",
    "u = torch.tensor(2.0, requires_grad = True)\n",
    "v = torch.tensor(1.0, requires_grad = True)\n",
    "f = u * v + (u * v) ** 2\n",
    "f.backward()\n",
    "print(\"The result is \", u.grad)\n",
    " -->"
   ]
  },
  {
   "cell_type": "markdown",
   "metadata": {},
   "source": [
    "<!--Empty Space for separating topics-->"
   ]
  },
  {
   "cell_type": "markdown",
   "metadata": {},
   "source": [
    "<a href=\"http://cocl.us/pytorch_link_bottom\">\n",
    "    <img src=\"https://s3-api.us-geo.objectstorage.softlayer.net/cf-courses-data/CognitiveClass/DL0110EN/notebook_images%20/notebook_bottom%20.png\" width=\"750\" alt=\"PyTorch Bottom\" />\n",
    "</a>"
   ]
  },
  {
   "cell_type": "markdown",
   "metadata": {},
   "source": [
    "<h2>About the Authors:</h2> \n",
    "\n",
    "<a href=\"https://www.linkedin.com/in/joseph-s-50398b136/\">Joseph Santarcangelo</a> has a PhD in Electrical Engineering, his research focused on using machine learning, signal processing, and computer vision to determine how videos impact human cognition. Joseph has been working for IBM since he completed his PhD."
   ]
  },
  {
   "cell_type": "markdown",
   "metadata": {},
   "source": [
    "Other contributors: <a href=\"https://www.linkedin.com/in/michelleccarey/\">Michelle Carey</a>, <a href=\"www.linkedin.com/in/jiahui-mavis-zhou-a4537814a\">Mavis Zhou</a> "
   ]
  },
  {
   "cell_type": "markdown",
   "metadata": {},
   "source": [
    "<hr>"
   ]
  },
  {
   "cell_type": "markdown",
   "metadata": {},
   "source": [
    "Copyright &copy; 2018 <a href=\"cognitiveclass.ai?utm_source=bducopyrightlink&utm_medium=dswb&utm_campaign=bdu\">cognitiveclass.ai</a>. This notebook and its source code are released under the terms of the <a href=\"https://bigdatauniversity.com/mit-license/\">MIT License</a>."
   ]
  }
 ],
 "metadata": {
  "kernelspec": {
   "display_name": "Python",
   "language": "python",
   "name": "conda-env-python-py"
  },
  "language_info": {
   "codemirror_mode": {
    "name": "ipython",
    "version": 3
   },
   "file_extension": ".py",
   "mimetype": "text/x-python",
   "name": "python",
   "nbconvert_exporter": "python",
   "pygments_lexer": "ipython3",
   "version": "3.6.10"
  }
 },
 "nbformat": 4,
 "nbformat_minor": 4
}
