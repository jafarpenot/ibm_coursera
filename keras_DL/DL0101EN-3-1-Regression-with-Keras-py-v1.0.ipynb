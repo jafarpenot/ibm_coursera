{
 "cells": [
  {
   "cell_type": "markdown",
   "metadata": {
    "button": false,
    "deletable": true,
    "new_sheet": false,
    "run_control": {
     "read_only": false
    }
   },
   "source": [
    "<a href=\"https://cognitiveclass.ai\"><img src = \"https://s3-api.us-geo.objectstorage.softlayer.net/cf-courses-data/CognitiveClass/Logos/organization_logo/organization_logo.png\" width = 400> </a>\n",
    "\n",
    "<h1 align=center><font size = 5>Regression Models with Keras</font></h1>"
   ]
  },
  {
   "cell_type": "markdown",
   "metadata": {
    "button": false,
    "deletable": true,
    "new_sheet": false,
    "run_control": {
     "read_only": false
    }
   },
   "source": [
    "## Introduction"
   ]
  },
  {
   "cell_type": "markdown",
   "metadata": {
    "button": false,
    "deletable": true,
    "new_sheet": false,
    "run_control": {
     "read_only": false
    }
   },
   "source": [
    "As we discussed in the videos, despite the popularity of more powerful libraries such as PyToch and TensorFlow, they are not easy to use and have a steep learning curve. So, for people who are just starting to learn deep learning, there is no better library to use other than the Keras library. \n",
    "\n",
    "Keras is a high-level API for building deep learning models. It has gained favor for its ease of use and syntactic simplicity facilitating fast development. As you will see in this lab and the other labs in this course, building a very complex deep learning network can be achieved with Keras with only few lines of code. You will appreciate Keras even more, once you learn how to build deep models using PyTorch and TensorFlow in the other courses.\n",
    "\n",
    "So, in this lab, you will learn how to use the Keras library to build a regression model."
   ]
  },
  {
   "cell_type": "markdown",
   "metadata": {
    "button": false,
    "deletable": true,
    "new_sheet": false,
    "run_control": {
     "read_only": false
    }
   },
   "source": [
    "## Table of Contents\n",
    "\n",
    "<div class=\"alert alert-block alert-info\" style=\"margin-top: 20px\">\n",
    "\n",
    "<font size = 3>\n",
    "    \n",
    "1. <a href=\"#item31\">Download and Clean Dataset</a>  \n",
    "2. <a href=\"#item32\">Import Keras</a>  \n",
    "3. <a href=\"#item33\">Build a Neural Network</a>  \n",
    "4. <a href=\"#item34\">Train and Test the Network</a>  \n",
    "\n",
    "</font>\n",
    "</div>"
   ]
  },
  {
   "cell_type": "markdown",
   "metadata": {
    "button": false,
    "deletable": true,
    "new_sheet": false,
    "run_control": {
     "read_only": false
    }
   },
   "source": [
    "<a id=\"item31\"></a>"
   ]
  },
  {
   "cell_type": "markdown",
   "metadata": {
    "button": false,
    "deletable": true,
    "new_sheet": false,
    "run_control": {
     "read_only": false
    }
   },
   "source": [
    "## Download and Clean Dataset"
   ]
  },
  {
   "cell_type": "markdown",
   "metadata": {
    "button": false,
    "deletable": true,
    "new_sheet": false,
    "run_control": {
     "read_only": false
    }
   },
   "source": [
    "Let's start by importing the <em>pandas</em> and the Numpy libraries."
   ]
  },
  {
   "cell_type": "code",
   "execution_count": 3,
   "metadata": {
    "button": false,
    "deletable": true,
    "new_sheet": false,
    "run_control": {
     "read_only": false
    }
   },
   "outputs": [],
   "source": [
    "import pandas as pd\n",
    "import numpy as np"
   ]
  },
  {
   "cell_type": "markdown",
   "metadata": {
    "button": false,
    "deletable": true,
    "new_sheet": false,
    "run_control": {
     "read_only": false
    }
   },
   "source": [
    "We will be playing around with the same dataset that we used in the videos.\n",
    "\n",
    "<strong>The dataset is about the compressive strength of different samples of concrete based on the volumes of the different ingredients that were used to make them. Ingredients include:</strong>\n",
    "\n",
    "<strong>1. Cement</strong>\n",
    "\n",
    "<strong>2. Blast Furnace Slag</strong>\n",
    "\n",
    "<strong>3. Fly Ash</strong>\n",
    "\n",
    "<strong>4. Water</strong>\n",
    "\n",
    "<strong>5. Superplasticizer</strong>\n",
    "\n",
    "<strong>6. Coarse Aggregate</strong>\n",
    "\n",
    "<strong>7. Fine Aggregate</strong>"
   ]
  },
  {
   "cell_type": "markdown",
   "metadata": {
    "button": false,
    "deletable": true,
    "new_sheet": false,
    "run_control": {
     "read_only": false
    }
   },
   "source": [
    "Let's download the data and read it into a <em>pandas</em> dataframe."
   ]
  },
  {
   "cell_type": "code",
   "execution_count": 4,
   "metadata": {
    "button": false,
    "deletable": true,
    "new_sheet": false,
    "run_control": {
     "read_only": false
    }
   },
   "outputs": [
    {
     "data": {
      "text/html": [
       "<div>\n",
       "<style scoped>\n",
       "    .dataframe tbody tr th:only-of-type {\n",
       "        vertical-align: middle;\n",
       "    }\n",
       "\n",
       "    .dataframe tbody tr th {\n",
       "        vertical-align: top;\n",
       "    }\n",
       "\n",
       "    .dataframe thead th {\n",
       "        text-align: right;\n",
       "    }\n",
       "</style>\n",
       "<table border=\"1\" class=\"dataframe\">\n",
       "  <thead>\n",
       "    <tr style=\"text-align: right;\">\n",
       "      <th></th>\n",
       "      <th>Cement</th>\n",
       "      <th>Blast Furnace Slag</th>\n",
       "      <th>Fly Ash</th>\n",
       "      <th>Water</th>\n",
       "      <th>Superplasticizer</th>\n",
       "      <th>Coarse Aggregate</th>\n",
       "      <th>Fine Aggregate</th>\n",
       "      <th>Age</th>\n",
       "      <th>Strength</th>\n",
       "    </tr>\n",
       "  </thead>\n",
       "  <tbody>\n",
       "    <tr>\n",
       "      <th>0</th>\n",
       "      <td>540.0</td>\n",
       "      <td>0.0</td>\n",
       "      <td>0.0</td>\n",
       "      <td>162.0</td>\n",
       "      <td>2.5</td>\n",
       "      <td>1040.0</td>\n",
       "      <td>676.0</td>\n",
       "      <td>28</td>\n",
       "      <td>79.99</td>\n",
       "    </tr>\n",
       "    <tr>\n",
       "      <th>1</th>\n",
       "      <td>540.0</td>\n",
       "      <td>0.0</td>\n",
       "      <td>0.0</td>\n",
       "      <td>162.0</td>\n",
       "      <td>2.5</td>\n",
       "      <td>1055.0</td>\n",
       "      <td>676.0</td>\n",
       "      <td>28</td>\n",
       "      <td>61.89</td>\n",
       "    </tr>\n",
       "    <tr>\n",
       "      <th>2</th>\n",
       "      <td>332.5</td>\n",
       "      <td>142.5</td>\n",
       "      <td>0.0</td>\n",
       "      <td>228.0</td>\n",
       "      <td>0.0</td>\n",
       "      <td>932.0</td>\n",
       "      <td>594.0</td>\n",
       "      <td>270</td>\n",
       "      <td>40.27</td>\n",
       "    </tr>\n",
       "    <tr>\n",
       "      <th>3</th>\n",
       "      <td>332.5</td>\n",
       "      <td>142.5</td>\n",
       "      <td>0.0</td>\n",
       "      <td>228.0</td>\n",
       "      <td>0.0</td>\n",
       "      <td>932.0</td>\n",
       "      <td>594.0</td>\n",
       "      <td>365</td>\n",
       "      <td>41.05</td>\n",
       "    </tr>\n",
       "    <tr>\n",
       "      <th>4</th>\n",
       "      <td>198.6</td>\n",
       "      <td>132.4</td>\n",
       "      <td>0.0</td>\n",
       "      <td>192.0</td>\n",
       "      <td>0.0</td>\n",
       "      <td>978.4</td>\n",
       "      <td>825.5</td>\n",
       "      <td>360</td>\n",
       "      <td>44.30</td>\n",
       "    </tr>\n",
       "    <tr>\n",
       "      <th>...</th>\n",
       "      <td>...</td>\n",
       "      <td>...</td>\n",
       "      <td>...</td>\n",
       "      <td>...</td>\n",
       "      <td>...</td>\n",
       "      <td>...</td>\n",
       "      <td>...</td>\n",
       "      <td>...</td>\n",
       "      <td>...</td>\n",
       "    </tr>\n",
       "    <tr>\n",
       "      <th>95</th>\n",
       "      <td>425.0</td>\n",
       "      <td>106.3</td>\n",
       "      <td>0.0</td>\n",
       "      <td>153.5</td>\n",
       "      <td>16.5</td>\n",
       "      <td>852.1</td>\n",
       "      <td>887.1</td>\n",
       "      <td>7</td>\n",
       "      <td>49.20</td>\n",
       "    </tr>\n",
       "    <tr>\n",
       "      <th>96</th>\n",
       "      <td>425.0</td>\n",
       "      <td>106.3</td>\n",
       "      <td>0.0</td>\n",
       "      <td>151.4</td>\n",
       "      <td>18.6</td>\n",
       "      <td>936.0</td>\n",
       "      <td>803.7</td>\n",
       "      <td>7</td>\n",
       "      <td>46.80</td>\n",
       "    </tr>\n",
       "    <tr>\n",
       "      <th>97</th>\n",
       "      <td>375.0</td>\n",
       "      <td>93.8</td>\n",
       "      <td>0.0</td>\n",
       "      <td>126.6</td>\n",
       "      <td>23.4</td>\n",
       "      <td>852.1</td>\n",
       "      <td>992.6</td>\n",
       "      <td>7</td>\n",
       "      <td>45.70</td>\n",
       "    </tr>\n",
       "    <tr>\n",
       "      <th>98</th>\n",
       "      <td>475.0</td>\n",
       "      <td>118.8</td>\n",
       "      <td>0.0</td>\n",
       "      <td>181.1</td>\n",
       "      <td>8.9</td>\n",
       "      <td>852.1</td>\n",
       "      <td>781.5</td>\n",
       "      <td>7</td>\n",
       "      <td>55.60</td>\n",
       "    </tr>\n",
       "    <tr>\n",
       "      <th>99</th>\n",
       "      <td>469.0</td>\n",
       "      <td>117.2</td>\n",
       "      <td>0.0</td>\n",
       "      <td>137.8</td>\n",
       "      <td>32.2</td>\n",
       "      <td>852.1</td>\n",
       "      <td>840.5</td>\n",
       "      <td>7</td>\n",
       "      <td>54.90</td>\n",
       "    </tr>\n",
       "  </tbody>\n",
       "</table>\n",
       "<p>100 rows × 9 columns</p>\n",
       "</div>"
      ],
      "text/plain": [
       "    Cement  Blast Furnace Slag  Fly Ash  Water  Superplasticizer  \\\n",
       "0    540.0                 0.0      0.0  162.0               2.5   \n",
       "1    540.0                 0.0      0.0  162.0               2.5   \n",
       "2    332.5               142.5      0.0  228.0               0.0   \n",
       "3    332.5               142.5      0.0  228.0               0.0   \n",
       "4    198.6               132.4      0.0  192.0               0.0   \n",
       "..     ...                 ...      ...    ...               ...   \n",
       "95   425.0               106.3      0.0  153.5              16.5   \n",
       "96   425.0               106.3      0.0  151.4              18.6   \n",
       "97   375.0                93.8      0.0  126.6              23.4   \n",
       "98   475.0               118.8      0.0  181.1               8.9   \n",
       "99   469.0               117.2      0.0  137.8              32.2   \n",
       "\n",
       "    Coarse Aggregate  Fine Aggregate  Age  Strength  \n",
       "0             1040.0           676.0   28     79.99  \n",
       "1             1055.0           676.0   28     61.89  \n",
       "2              932.0           594.0  270     40.27  \n",
       "3              932.0           594.0  365     41.05  \n",
       "4              978.4           825.5  360     44.30  \n",
       "..               ...             ...  ...       ...  \n",
       "95             852.1           887.1    7     49.20  \n",
       "96             936.0           803.7    7     46.80  \n",
       "97             852.1           992.6    7     45.70  \n",
       "98             852.1           781.5    7     55.60  \n",
       "99             852.1           840.5    7     54.90  \n",
       "\n",
       "[100 rows x 9 columns]"
      ]
     },
     "execution_count": 4,
     "metadata": {},
     "output_type": "execute_result"
    }
   ],
   "source": [
    "concrete_data = pd.read_csv('https://s3-api.us-geo.objectstorage.softlayer.net/cf-courses-data/CognitiveClass/DL0101EN/labs/data/concrete_data.csv')\n",
    "concrete_data.head(100)"
   ]
  },
  {
   "cell_type": "markdown",
   "metadata": {
    "button": false,
    "deletable": true,
    "new_sheet": false,
    "run_control": {
     "read_only": false
    }
   },
   "source": [
    "So the first concrete sample has 540 cubic meter of cement, 0 cubic meter of blast furnace slag, 0 cubic meter of fly ash, 162 cubic meter of water, 2.5 cubic meter of superplaticizer, 1040 cubic meter of coarse aggregate, 676 cubic meter of fine aggregate. Such a concrete mix which is 28 days old, has a compressive strength of 79.99 MPa. "
   ]
  },
  {
   "cell_type": "markdown",
   "metadata": {
    "button": false,
    "deletable": true,
    "new_sheet": false,
    "run_control": {
     "read_only": false
    }
   },
   "source": [
    "#### Let's check how many data points we have."
   ]
  },
  {
   "cell_type": "code",
   "execution_count": 5,
   "metadata": {
    "button": false,
    "deletable": true,
    "new_sheet": false,
    "run_control": {
     "read_only": false
    }
   },
   "outputs": [
    {
     "data": {
      "text/plain": [
       "(1030, 9)"
      ]
     },
     "execution_count": 5,
     "metadata": {},
     "output_type": "execute_result"
    }
   ],
   "source": [
    "concrete_data.shape"
   ]
  },
  {
   "cell_type": "markdown",
   "metadata": {
    "button": false,
    "deletable": true,
    "new_sheet": false,
    "run_control": {
     "read_only": false
    }
   },
   "source": [
    "So, there are approximately 1000 samples to train our model on. Because of the few samples, we have to be careful not to overfit the training data."
   ]
  },
  {
   "cell_type": "markdown",
   "metadata": {
    "button": false,
    "deletable": true,
    "new_sheet": false,
    "run_control": {
     "read_only": false
    }
   },
   "source": [
    "Let's check the dataset for any missing values."
   ]
  },
  {
   "cell_type": "code",
   "execution_count": 6,
   "metadata": {
    "button": false,
    "deletable": true,
    "new_sheet": false,
    "run_control": {
     "read_only": false
    }
   },
   "outputs": [
    {
     "data": {
      "text/html": [
       "<div>\n",
       "<style scoped>\n",
       "    .dataframe tbody tr th:only-of-type {\n",
       "        vertical-align: middle;\n",
       "    }\n",
       "\n",
       "    .dataframe tbody tr th {\n",
       "        vertical-align: top;\n",
       "    }\n",
       "\n",
       "    .dataframe thead th {\n",
       "        text-align: right;\n",
       "    }\n",
       "</style>\n",
       "<table border=\"1\" class=\"dataframe\">\n",
       "  <thead>\n",
       "    <tr style=\"text-align: right;\">\n",
       "      <th></th>\n",
       "      <th>Cement</th>\n",
       "      <th>Blast Furnace Slag</th>\n",
       "      <th>Fly Ash</th>\n",
       "      <th>Water</th>\n",
       "      <th>Superplasticizer</th>\n",
       "      <th>Coarse Aggregate</th>\n",
       "      <th>Fine Aggregate</th>\n",
       "      <th>Age</th>\n",
       "      <th>Strength</th>\n",
       "    </tr>\n",
       "  </thead>\n",
       "  <tbody>\n",
       "    <tr>\n",
       "      <th>count</th>\n",
       "      <td>1030.000000</td>\n",
       "      <td>1030.000000</td>\n",
       "      <td>1030.000000</td>\n",
       "      <td>1030.000000</td>\n",
       "      <td>1030.000000</td>\n",
       "      <td>1030.000000</td>\n",
       "      <td>1030.000000</td>\n",
       "      <td>1030.000000</td>\n",
       "      <td>1030.000000</td>\n",
       "    </tr>\n",
       "    <tr>\n",
       "      <th>mean</th>\n",
       "      <td>281.167864</td>\n",
       "      <td>73.895825</td>\n",
       "      <td>54.188350</td>\n",
       "      <td>181.567282</td>\n",
       "      <td>6.204660</td>\n",
       "      <td>972.918932</td>\n",
       "      <td>773.580485</td>\n",
       "      <td>45.662136</td>\n",
       "      <td>35.817961</td>\n",
       "    </tr>\n",
       "    <tr>\n",
       "      <th>std</th>\n",
       "      <td>104.506364</td>\n",
       "      <td>86.279342</td>\n",
       "      <td>63.997004</td>\n",
       "      <td>21.354219</td>\n",
       "      <td>5.973841</td>\n",
       "      <td>77.753954</td>\n",
       "      <td>80.175980</td>\n",
       "      <td>63.169912</td>\n",
       "      <td>16.705742</td>\n",
       "    </tr>\n",
       "    <tr>\n",
       "      <th>min</th>\n",
       "      <td>102.000000</td>\n",
       "      <td>0.000000</td>\n",
       "      <td>0.000000</td>\n",
       "      <td>121.800000</td>\n",
       "      <td>0.000000</td>\n",
       "      <td>801.000000</td>\n",
       "      <td>594.000000</td>\n",
       "      <td>1.000000</td>\n",
       "      <td>2.330000</td>\n",
       "    </tr>\n",
       "    <tr>\n",
       "      <th>25%</th>\n",
       "      <td>192.375000</td>\n",
       "      <td>0.000000</td>\n",
       "      <td>0.000000</td>\n",
       "      <td>164.900000</td>\n",
       "      <td>0.000000</td>\n",
       "      <td>932.000000</td>\n",
       "      <td>730.950000</td>\n",
       "      <td>7.000000</td>\n",
       "      <td>23.710000</td>\n",
       "    </tr>\n",
       "    <tr>\n",
       "      <th>50%</th>\n",
       "      <td>272.900000</td>\n",
       "      <td>22.000000</td>\n",
       "      <td>0.000000</td>\n",
       "      <td>185.000000</td>\n",
       "      <td>6.400000</td>\n",
       "      <td>968.000000</td>\n",
       "      <td>779.500000</td>\n",
       "      <td>28.000000</td>\n",
       "      <td>34.445000</td>\n",
       "    </tr>\n",
       "    <tr>\n",
       "      <th>75%</th>\n",
       "      <td>350.000000</td>\n",
       "      <td>142.950000</td>\n",
       "      <td>118.300000</td>\n",
       "      <td>192.000000</td>\n",
       "      <td>10.200000</td>\n",
       "      <td>1029.400000</td>\n",
       "      <td>824.000000</td>\n",
       "      <td>56.000000</td>\n",
       "      <td>46.135000</td>\n",
       "    </tr>\n",
       "    <tr>\n",
       "      <th>max</th>\n",
       "      <td>540.000000</td>\n",
       "      <td>359.400000</td>\n",
       "      <td>200.100000</td>\n",
       "      <td>247.000000</td>\n",
       "      <td>32.200000</td>\n",
       "      <td>1145.000000</td>\n",
       "      <td>992.600000</td>\n",
       "      <td>365.000000</td>\n",
       "      <td>82.600000</td>\n",
       "    </tr>\n",
       "  </tbody>\n",
       "</table>\n",
       "</div>"
      ],
      "text/plain": [
       "            Cement  Blast Furnace Slag      Fly Ash        Water  \\\n",
       "count  1030.000000         1030.000000  1030.000000  1030.000000   \n",
       "mean    281.167864           73.895825    54.188350   181.567282   \n",
       "std     104.506364           86.279342    63.997004    21.354219   \n",
       "min     102.000000            0.000000     0.000000   121.800000   \n",
       "25%     192.375000            0.000000     0.000000   164.900000   \n",
       "50%     272.900000           22.000000     0.000000   185.000000   \n",
       "75%     350.000000          142.950000   118.300000   192.000000   \n",
       "max     540.000000          359.400000   200.100000   247.000000   \n",
       "\n",
       "       Superplasticizer  Coarse Aggregate  Fine Aggregate          Age  \\\n",
       "count       1030.000000       1030.000000     1030.000000  1030.000000   \n",
       "mean           6.204660        972.918932      773.580485    45.662136   \n",
       "std            5.973841         77.753954       80.175980    63.169912   \n",
       "min            0.000000        801.000000      594.000000     1.000000   \n",
       "25%            0.000000        932.000000      730.950000     7.000000   \n",
       "50%            6.400000        968.000000      779.500000    28.000000   \n",
       "75%           10.200000       1029.400000      824.000000    56.000000   \n",
       "max           32.200000       1145.000000      992.600000   365.000000   \n",
       "\n",
       "          Strength  \n",
       "count  1030.000000  \n",
       "mean     35.817961  \n",
       "std      16.705742  \n",
       "min       2.330000  \n",
       "25%      23.710000  \n",
       "50%      34.445000  \n",
       "75%      46.135000  \n",
       "max      82.600000  "
      ]
     },
     "execution_count": 6,
     "metadata": {},
     "output_type": "execute_result"
    }
   ],
   "source": [
    "concrete_data.describe()"
   ]
  },
  {
   "cell_type": "code",
   "execution_count": 9,
   "metadata": {
    "button": false,
    "deletable": true,
    "new_sheet": false,
    "run_control": {
     "read_only": false
    }
   },
   "outputs": [
    {
     "data": {
      "text/plain": [
       "Cement                0\n",
       "Blast Furnace Slag    0\n",
       "Fly Ash               0\n",
       "Water                 0\n",
       "Superplasticizer      0\n",
       "Coarse Aggregate      0\n",
       "Fine Aggregate        0\n",
       "Age                   0\n",
       "Strength              0\n",
       "dtype: int64"
      ]
     },
     "execution_count": 9,
     "metadata": {},
     "output_type": "execute_result"
    }
   ],
   "source": [
    "concrete_data.isnull().sum()"
   ]
  },
  {
   "cell_type": "markdown",
   "metadata": {
    "button": false,
    "deletable": true,
    "new_sheet": false,
    "run_control": {
     "read_only": false
    }
   },
   "source": [
    "The data looks very clean and is ready to be used to build our model."
   ]
  },
  {
   "cell_type": "markdown",
   "metadata": {
    "button": false,
    "deletable": true,
    "new_sheet": false,
    "run_control": {
     "read_only": false
    }
   },
   "source": [
    "#### Split data into predictors and target"
   ]
  },
  {
   "cell_type": "markdown",
   "metadata": {},
   "source": [
    "The target variable in this problem is the concrete sample strength. Therefore, our predictors will be all the other columns."
   ]
  },
  {
   "cell_type": "code",
   "execution_count": 11,
   "metadata": {
    "button": false,
    "deletable": true,
    "new_sheet": false,
    "run_control": {
     "read_only": false
    }
   },
   "outputs": [
    {
     "name": "stdout",
     "output_type": "stream",
     "text": [
      "Index(['Cement', 'Blast Furnace Slag', 'Fly Ash', 'Water', 'Superplasticizer',\n",
      "       'Coarse Aggregate', 'Fine Aggregate', 'Age', 'Strength'],\n",
      "      dtype='object')\n"
     ]
    }
   ],
   "source": [
    "concrete_data_columns = concrete_data.columns\n",
    "print(concrete_data_columns)\n",
    "\n",
    "predictors = concrete_data[concrete_data_columns[concrete_data_columns != 'Strength']] # all columns except Strength\n",
    "target = concrete_data['Strength'] # Strength column"
   ]
  },
  {
   "cell_type": "markdown",
   "metadata": {
    "button": false,
    "deletable": true,
    "new_sheet": false,
    "run_control": {
     "read_only": false
    }
   },
   "source": [
    "<a id=\"item2\"></a>"
   ]
  },
  {
   "cell_type": "markdown",
   "metadata": {
    "button": false,
    "deletable": true,
    "new_sheet": false,
    "run_control": {
     "read_only": false
    }
   },
   "source": [
    "Let's do a quick sanity check of the predictors and the target dataframes."
   ]
  },
  {
   "cell_type": "code",
   "execution_count": 8,
   "metadata": {
    "button": false,
    "deletable": true,
    "new_sheet": false,
    "run_control": {
     "read_only": false
    }
   },
   "outputs": [
    {
     "data": {
      "text/html": [
       "<div>\n",
       "<style scoped>\n",
       "    .dataframe tbody tr th:only-of-type {\n",
       "        vertical-align: middle;\n",
       "    }\n",
       "\n",
       "    .dataframe tbody tr th {\n",
       "        vertical-align: top;\n",
       "    }\n",
       "\n",
       "    .dataframe thead th {\n",
       "        text-align: right;\n",
       "    }\n",
       "</style>\n",
       "<table border=\"1\" class=\"dataframe\">\n",
       "  <thead>\n",
       "    <tr style=\"text-align: right;\">\n",
       "      <th></th>\n",
       "      <th>Cement</th>\n",
       "      <th>Blast Furnace Slag</th>\n",
       "      <th>Fly Ash</th>\n",
       "      <th>Water</th>\n",
       "      <th>Superplasticizer</th>\n",
       "      <th>Coarse Aggregate</th>\n",
       "      <th>Fine Aggregate</th>\n",
       "      <th>Age</th>\n",
       "    </tr>\n",
       "  </thead>\n",
       "  <tbody>\n",
       "    <tr>\n",
       "      <th>0</th>\n",
       "      <td>540.0</td>\n",
       "      <td>0.0</td>\n",
       "      <td>0.0</td>\n",
       "      <td>162.0</td>\n",
       "      <td>2.5</td>\n",
       "      <td>1040.0</td>\n",
       "      <td>676.0</td>\n",
       "      <td>28</td>\n",
       "    </tr>\n",
       "    <tr>\n",
       "      <th>1</th>\n",
       "      <td>540.0</td>\n",
       "      <td>0.0</td>\n",
       "      <td>0.0</td>\n",
       "      <td>162.0</td>\n",
       "      <td>2.5</td>\n",
       "      <td>1055.0</td>\n",
       "      <td>676.0</td>\n",
       "      <td>28</td>\n",
       "    </tr>\n",
       "    <tr>\n",
       "      <th>2</th>\n",
       "      <td>332.5</td>\n",
       "      <td>142.5</td>\n",
       "      <td>0.0</td>\n",
       "      <td>228.0</td>\n",
       "      <td>0.0</td>\n",
       "      <td>932.0</td>\n",
       "      <td>594.0</td>\n",
       "      <td>270</td>\n",
       "    </tr>\n",
       "    <tr>\n",
       "      <th>3</th>\n",
       "      <td>332.5</td>\n",
       "      <td>142.5</td>\n",
       "      <td>0.0</td>\n",
       "      <td>228.0</td>\n",
       "      <td>0.0</td>\n",
       "      <td>932.0</td>\n",
       "      <td>594.0</td>\n",
       "      <td>365</td>\n",
       "    </tr>\n",
       "    <tr>\n",
       "      <th>4</th>\n",
       "      <td>198.6</td>\n",
       "      <td>132.4</td>\n",
       "      <td>0.0</td>\n",
       "      <td>192.0</td>\n",
       "      <td>0.0</td>\n",
       "      <td>978.4</td>\n",
       "      <td>825.5</td>\n",
       "      <td>360</td>\n",
       "    </tr>\n",
       "  </tbody>\n",
       "</table>\n",
       "</div>"
      ],
      "text/plain": [
       "   Cement  Blast Furnace Slag  Fly Ash  Water  Superplasticizer  \\\n",
       "0   540.0                 0.0      0.0  162.0               2.5   \n",
       "1   540.0                 0.0      0.0  162.0               2.5   \n",
       "2   332.5               142.5      0.0  228.0               0.0   \n",
       "3   332.5               142.5      0.0  228.0               0.0   \n",
       "4   198.6               132.4      0.0  192.0               0.0   \n",
       "\n",
       "   Coarse Aggregate  Fine Aggregate  Age  \n",
       "0            1040.0           676.0   28  \n",
       "1            1055.0           676.0   28  \n",
       "2             932.0           594.0  270  \n",
       "3             932.0           594.0  365  \n",
       "4             978.4           825.5  360  "
      ]
     },
     "execution_count": 8,
     "metadata": {},
     "output_type": "execute_result"
    }
   ],
   "source": [
    "predictors.head()"
   ]
  },
  {
   "cell_type": "code",
   "execution_count": 9,
   "metadata": {
    "button": false,
    "deletable": true,
    "new_sheet": false,
    "run_control": {
     "read_only": false
    }
   },
   "outputs": [
    {
     "data": {
      "text/plain": [
       "0    79.99\n",
       "1    61.89\n",
       "2    40.27\n",
       "3    41.05\n",
       "4    44.30\n",
       "Name: Strength, dtype: float64"
      ]
     },
     "execution_count": 9,
     "metadata": {},
     "output_type": "execute_result"
    }
   ],
   "source": [
    "target.head()"
   ]
  },
  {
   "cell_type": "markdown",
   "metadata": {
    "button": false,
    "deletable": true,
    "new_sheet": false,
    "run_control": {
     "read_only": false
    }
   },
   "source": [
    "Finally, the last step is to normalize the data by substracting the mean and dividing by the standard deviation."
   ]
  },
  {
   "cell_type": "code",
   "execution_count": 17,
   "metadata": {
    "button": false,
    "deletable": true,
    "new_sheet": false,
    "run_control": {
     "read_only": false
    }
   },
   "outputs": [
    {
     "data": {
      "text/html": [
       "<div>\n",
       "<style scoped>\n",
       "    .dataframe tbody tr th:only-of-type {\n",
       "        vertical-align: middle;\n",
       "    }\n",
       "\n",
       "    .dataframe tbody tr th {\n",
       "        vertical-align: top;\n",
       "    }\n",
       "\n",
       "    .dataframe thead th {\n",
       "        text-align: right;\n",
       "    }\n",
       "</style>\n",
       "<table border=\"1\" class=\"dataframe\">\n",
       "  <thead>\n",
       "    <tr style=\"text-align: right;\">\n",
       "      <th></th>\n",
       "      <th>Cement</th>\n",
       "      <th>Blast Furnace Slag</th>\n",
       "      <th>Fly Ash</th>\n",
       "      <th>Water</th>\n",
       "      <th>Superplasticizer</th>\n",
       "      <th>Coarse Aggregate</th>\n",
       "      <th>Fine Aggregate</th>\n",
       "      <th>Age</th>\n",
       "    </tr>\n",
       "  </thead>\n",
       "  <tbody>\n",
       "    <tr>\n",
       "      <th>0</th>\n",
       "      <td>2.476712</td>\n",
       "      <td>-0.856472</td>\n",
       "      <td>-0.846733</td>\n",
       "      <td>-0.916319</td>\n",
       "      <td>-0.620147</td>\n",
       "      <td>0.862735</td>\n",
       "      <td>-1.217079</td>\n",
       "      <td>-0.279597</td>\n",
       "    </tr>\n",
       "    <tr>\n",
       "      <th>1</th>\n",
       "      <td>2.476712</td>\n",
       "      <td>-0.856472</td>\n",
       "      <td>-0.846733</td>\n",
       "      <td>-0.916319</td>\n",
       "      <td>-0.620147</td>\n",
       "      <td>1.055651</td>\n",
       "      <td>-1.217079</td>\n",
       "      <td>-0.279597</td>\n",
       "    </tr>\n",
       "    <tr>\n",
       "      <th>2</th>\n",
       "      <td>0.491187</td>\n",
       "      <td>0.795140</td>\n",
       "      <td>-0.846733</td>\n",
       "      <td>2.174405</td>\n",
       "      <td>-1.038638</td>\n",
       "      <td>-0.526262</td>\n",
       "      <td>-2.239829</td>\n",
       "      <td>3.551340</td>\n",
       "    </tr>\n",
       "    <tr>\n",
       "      <th>3</th>\n",
       "      <td>0.491187</td>\n",
       "      <td>0.795140</td>\n",
       "      <td>-0.846733</td>\n",
       "      <td>2.174405</td>\n",
       "      <td>-1.038638</td>\n",
       "      <td>-0.526262</td>\n",
       "      <td>-2.239829</td>\n",
       "      <td>5.055221</td>\n",
       "    </tr>\n",
       "    <tr>\n",
       "      <th>4</th>\n",
       "      <td>-0.790075</td>\n",
       "      <td>0.678079</td>\n",
       "      <td>-0.846733</td>\n",
       "      <td>0.488555</td>\n",
       "      <td>-1.038638</td>\n",
       "      <td>0.070492</td>\n",
       "      <td>0.647569</td>\n",
       "      <td>4.976069</td>\n",
       "    </tr>\n",
       "  </tbody>\n",
       "</table>\n",
       "</div>"
      ],
      "text/plain": [
       "     Cement  Blast Furnace Slag   Fly Ash     Water  Superplasticizer  \\\n",
       "0  2.476712           -0.856472 -0.846733 -0.916319         -0.620147   \n",
       "1  2.476712           -0.856472 -0.846733 -0.916319         -0.620147   \n",
       "2  0.491187            0.795140 -0.846733  2.174405         -1.038638   \n",
       "3  0.491187            0.795140 -0.846733  2.174405         -1.038638   \n",
       "4 -0.790075            0.678079 -0.846733  0.488555         -1.038638   \n",
       "\n",
       "   Coarse Aggregate  Fine Aggregate       Age  \n",
       "0          0.862735       -1.217079 -0.279597  \n",
       "1          1.055651       -1.217079 -0.279597  \n",
       "2         -0.526262       -2.239829  3.551340  \n",
       "3         -0.526262       -2.239829  5.055221  \n",
       "4          0.070492        0.647569  4.976069  "
      ]
     },
     "execution_count": 17,
     "metadata": {},
     "output_type": "execute_result"
    }
   ],
   "source": [
    "predictors_norm = (predictors - predictors.mean()) / predictors.std()\n",
    "predictors_norm.head()"
   ]
  },
  {
   "cell_type": "markdown",
   "metadata": {},
   "source": [
    "Let's save the number of predictors to *n_cols* since we will need this number when building our network."
   ]
  },
  {
   "cell_type": "code",
   "execution_count": 19,
   "metadata": {
    "button": false,
    "deletable": true,
    "new_sheet": false,
    "run_control": {
     "read_only": false
    }
   },
   "outputs": [],
   "source": [
    "n_cols = predictors_norm.shape[1] # number of predictors"
   ]
  },
  {
   "cell_type": "markdown",
   "metadata": {
    "button": false,
    "deletable": true,
    "new_sheet": false,
    "run_control": {
     "read_only": false
    }
   },
   "source": [
    "<a id=\"item1\"></a>"
   ]
  },
  {
   "cell_type": "markdown",
   "metadata": {},
   "source": [
    "<a id='item32'></a>"
   ]
  },
  {
   "cell_type": "markdown",
   "metadata": {
    "button": false,
    "deletable": true,
    "new_sheet": false,
    "run_control": {
     "read_only": false
    }
   },
   "source": [
    "# Import Keras"
   ]
  },
  {
   "cell_type": "markdown",
   "metadata": {
    "button": false,
    "deletable": true,
    "new_sheet": false,
    "run_control": {
     "read_only": false
    }
   },
   "source": [
    "Recall from the videos that Keras normally runs on top of a low-level library such as TensorFlow. This means that to be able to use the Keras library, you will have to install TensorFlow first and when you import the Keras library, it will be explicitly displayed what backend was used to install the Keras library. In CC Labs, we used TensorFlow as the backend to install Keras, so it should clearly print that when we import Keras."
   ]
  },
  {
   "cell_type": "markdown",
   "metadata": {
    "button": false,
    "deletable": true,
    "new_sheet": false,
    "run_control": {
     "read_only": false
    }
   },
   "source": [
    "#### Let's go ahead and import the Keras library"
   ]
  },
  {
   "cell_type": "code",
   "execution_count": 20,
   "metadata": {
    "button": false,
    "deletable": true,
    "new_sheet": false,
    "run_control": {
     "read_only": false
    }
   },
   "outputs": [
    {
     "name": "stderr",
     "output_type": "stream",
     "text": [
      "Using TensorFlow backend.\n",
      "/home/jupyterlab/conda/envs/python/lib/python3.6/site-packages/tensorflow/python/framework/dtypes.py:519: FutureWarning: Passing (type, 1) or '1type' as a synonym of type is deprecated; in a future version of numpy, it will be understood as (type, (1,)) / '(1,)type'.\n",
      "  _np_qint8 = np.dtype([(\"qint8\", np.int8, 1)])\n",
      "/home/jupyterlab/conda/envs/python/lib/python3.6/site-packages/tensorflow/python/framework/dtypes.py:520: FutureWarning: Passing (type, 1) or '1type' as a synonym of type is deprecated; in a future version of numpy, it will be understood as (type, (1,)) / '(1,)type'.\n",
      "  _np_quint8 = np.dtype([(\"quint8\", np.uint8, 1)])\n",
      "/home/jupyterlab/conda/envs/python/lib/python3.6/site-packages/tensorflow/python/framework/dtypes.py:521: FutureWarning: Passing (type, 1) or '1type' as a synonym of type is deprecated; in a future version of numpy, it will be understood as (type, (1,)) / '(1,)type'.\n",
      "  _np_qint16 = np.dtype([(\"qint16\", np.int16, 1)])\n",
      "/home/jupyterlab/conda/envs/python/lib/python3.6/site-packages/tensorflow/python/framework/dtypes.py:522: FutureWarning: Passing (type, 1) or '1type' as a synonym of type is deprecated; in a future version of numpy, it will be understood as (type, (1,)) / '(1,)type'.\n",
      "  _np_quint16 = np.dtype([(\"quint16\", np.uint16, 1)])\n",
      "/home/jupyterlab/conda/envs/python/lib/python3.6/site-packages/tensorflow/python/framework/dtypes.py:523: FutureWarning: Passing (type, 1) or '1type' as a synonym of type is deprecated; in a future version of numpy, it will be understood as (type, (1,)) / '(1,)type'.\n",
      "  _np_qint32 = np.dtype([(\"qint32\", np.int32, 1)])\n",
      "/home/jupyterlab/conda/envs/python/lib/python3.6/site-packages/tensorflow/python/framework/dtypes.py:528: FutureWarning: Passing (type, 1) or '1type' as a synonym of type is deprecated; in a future version of numpy, it will be understood as (type, (1,)) / '(1,)type'.\n",
      "  np_resource = np.dtype([(\"resource\", np.ubyte, 1)])\n"
     ]
    }
   ],
   "source": [
    "import keras"
   ]
  },
  {
   "cell_type": "markdown",
   "metadata": {
    "button": false,
    "deletable": true,
    "new_sheet": false,
    "run_control": {
     "read_only": false
    }
   },
   "source": [
    "As you can see, the TensorFlow backend was used to install the Keras library."
   ]
  },
  {
   "cell_type": "markdown",
   "metadata": {
    "button": false,
    "deletable": true,
    "new_sheet": false,
    "run_control": {
     "read_only": false
    }
   },
   "source": [
    "Let's import the rest of the packages from the Keras library that we will need to build our regressoin model."
   ]
  },
  {
   "cell_type": "code",
   "execution_count": 21,
   "metadata": {
    "button": false,
    "deletable": true,
    "new_sheet": false,
    "run_control": {
     "read_only": false
    }
   },
   "outputs": [],
   "source": [
    "from keras.models import Sequential\n",
    "from keras.layers import Dense"
   ]
  },
  {
   "cell_type": "markdown",
   "metadata": {},
   "source": [
    "<a id='item33'></a>"
   ]
  },
  {
   "cell_type": "markdown",
   "metadata": {
    "button": false,
    "deletable": true,
    "new_sheet": false,
    "run_control": {
     "read_only": false
    }
   },
   "source": [
    "## Build a Neural Network"
   ]
  },
  {
   "cell_type": "markdown",
   "metadata": {
    "button": false,
    "deletable": true,
    "new_sheet": false,
    "run_control": {
     "read_only": false
    }
   },
   "source": [
    "Let's define a function that defines our regression model for us so that we can conveniently call it to create our model."
   ]
  },
  {
   "cell_type": "code",
   "execution_count": 31,
   "metadata": {
    "button": false,
    "deletable": true,
    "new_sheet": false,
    "run_control": {
     "read_only": false
    }
   },
   "outputs": [],
   "source": [
    "# define regression model\n",
    "def regression_model(model_optimizer, model_loss_function):\n",
    "    # create model\n",
    "    model = Sequential()\n",
    "    model.add(Dense(50, activation='relu', input_shape=(n_cols,)))\n",
    "    model.add(Dense(50, activation='relu'))\n",
    "    model.add(Dense(1))\n",
    "    \n",
    "    # compile model\n",
    "    model.compile(optimizer=model_optimizer, loss=model_loss_function)\n",
    "    return model"
   ]
  },
  {
   "cell_type": "markdown",
   "metadata": {},
   "source": [
    "The above function create a model that has two hidden layers, each of 50 hidden units."
   ]
  },
  {
   "cell_type": "markdown",
   "metadata": {
    "button": false,
    "deletable": true,
    "new_sheet": false,
    "run_control": {
     "read_only": false
    }
   },
   "source": [
    "<a id=\"item4\"></a>"
   ]
  },
  {
   "cell_type": "markdown",
   "metadata": {},
   "source": [
    "<a id='item34'></a>"
   ]
  },
  {
   "cell_type": "markdown",
   "metadata": {
    "button": false,
    "deletable": true,
    "new_sheet": false,
    "run_control": {
     "read_only": false
    }
   },
   "source": [
    "## Train and Test the Network"
   ]
  },
  {
   "cell_type": "markdown",
   "metadata": {},
   "source": [
    "Let's call the function now to create our model."
   ]
  },
  {
   "cell_type": "code",
   "execution_count": 37,
   "metadata": {
    "button": false,
    "deletable": true,
    "new_sheet": false,
    "run_control": {
     "read_only": false
    }
   },
   "outputs": [],
   "source": [
    "# build the model\n",
    "# model = regression_model()"
   ]
  },
  {
   "cell_type": "markdown",
   "metadata": {},
   "source": [
    "Next, we will train and test the model at the same time using the *fit* method. We will leave out 30% of the data for validation and we will train the model for 100 epochs."
   ]
  },
  {
   "cell_type": "code",
   "execution_count": 55,
   "metadata": {},
   "outputs": [
    {
     "name": "stdout",
     "output_type": "stream",
     "text": [
      "Train on 721 samples, validate on 309 samples\n",
      "Epoch 1/100\n",
      " - 1s - loss: 1621.5931 - val_loss: 1132.8650\n",
      "Epoch 2/100\n",
      " - 0s - loss: 1473.0159 - val_loss: 995.6872\n",
      "Epoch 3/100\n",
      " - 0s - loss: 1226.7736 - val_loss: 785.7036\n",
      "Epoch 4/100\n",
      " - 0s - loss: 885.4861 - val_loss: 529.2413\n",
      "Epoch 5/100\n",
      " - 0s - loss: 534.0571 - val_loss: 319.9639\n",
      "Epoch 6/100\n",
      " - 0s - loss: 316.0563 - val_loss: 213.5261\n",
      "Epoch 7/100\n",
      " - 0s - loss: 243.8519 - val_loss: 177.1206\n",
      "Epoch 8/100\n",
      " - 0s - loss: 222.3815 - val_loss: 162.5105\n",
      "Epoch 9/100\n",
      " - 0s - loss: 207.8610 - val_loss: 157.1127\n",
      "Epoch 10/100\n",
      " - 0s - loss: 196.0746 - val_loss: 153.3979\n",
      "Epoch 11/100\n",
      " - 0s - loss: 187.7258 - val_loss: 147.5696\n",
      "Epoch 12/100\n",
      " - 1s - loss: 180.1856 - val_loss: 145.1869\n",
      "Epoch 13/100\n",
      " - 0s - loss: 174.2892 - val_loss: 143.6209\n",
      "Epoch 14/100\n",
      " - 0s - loss: 169.4501 - val_loss: 141.7609\n",
      "Epoch 15/100\n",
      " - 0s - loss: 165.4788 - val_loss: 141.0862\n",
      "Epoch 16/100\n",
      " - 0s - loss: 161.0751 - val_loss: 138.9705\n",
      "Epoch 17/100\n",
      " - 0s - loss: 157.3750 - val_loss: 137.7331\n",
      "Epoch 18/100\n",
      " - 0s - loss: 154.3453 - val_loss: 137.7178\n",
      "Epoch 19/100\n",
      " - 0s - loss: 151.6239 - val_loss: 136.5872\n",
      "Epoch 20/100\n",
      " - 0s - loss: 149.0191 - val_loss: 136.1292\n",
      "Epoch 21/100\n",
      " - 0s - loss: 146.6414 - val_loss: 138.0283\n",
      "Epoch 22/100\n",
      " - 0s - loss: 144.0485 - val_loss: 135.6484\n",
      "Epoch 23/100\n",
      " - 0s - loss: 141.8568 - val_loss: 134.8796\n",
      "Epoch 24/100\n",
      " - 0s - loss: 140.1463 - val_loss: 137.2254\n",
      "Epoch 25/100\n",
      " - 0s - loss: 138.0551 - val_loss: 137.1143\n",
      "Epoch 26/100\n",
      " - 0s - loss: 136.2157 - val_loss: 136.2959\n",
      "Epoch 27/100\n",
      " - 0s - loss: 134.7412 - val_loss: 138.8194\n",
      "Epoch 28/100\n",
      " - 0s - loss: 132.8058 - val_loss: 138.4449\n",
      "Epoch 29/100\n",
      " - 0s - loss: 131.5355 - val_loss: 137.2563\n",
      "Epoch 30/100\n",
      " - 0s - loss: 129.7726 - val_loss: 139.8788\n",
      "Epoch 31/100\n",
      " - 0s - loss: 127.9305 - val_loss: 137.3882\n",
      "Epoch 32/100\n",
      " - 0s - loss: 126.1151 - val_loss: 138.8478\n",
      "Epoch 33/100\n",
      " - 0s - loss: 124.8561 - val_loss: 139.9008\n",
      "Epoch 34/100\n",
      " - 0s - loss: 122.3350 - val_loss: 140.9484\n",
      "Epoch 35/100\n",
      " - 0s - loss: 120.1236 - val_loss: 139.0450\n",
      "Epoch 36/100\n",
      " - 0s - loss: 118.1027 - val_loss: 137.5191\n",
      "Epoch 37/100\n",
      " - 0s - loss: 115.1161 - val_loss: 141.0826\n",
      "Epoch 38/100\n",
      " - 0s - loss: 112.7137 - val_loss: 138.0311\n",
      "Epoch 39/100\n",
      " - 0s - loss: 110.1389 - val_loss: 137.8916\n",
      "Epoch 40/100\n",
      " - 0s - loss: 107.3392 - val_loss: 138.0822\n",
      "Epoch 41/100\n",
      " - 0s - loss: 103.9444 - val_loss: 139.4369\n",
      "Epoch 42/100\n",
      " - 0s - loss: 101.8958 - val_loss: 136.3838\n",
      "Epoch 43/100\n",
      " - 0s - loss: 98.5505 - val_loss: 137.3787\n",
      "Epoch 44/100\n",
      " - 1s - loss: 95.5734 - val_loss: 136.8991\n",
      "Epoch 45/100\n",
      " - 1s - loss: 93.2512 - val_loss: 135.6169\n",
      "Epoch 46/100\n",
      " - 1s - loss: 89.7865 - val_loss: 136.2476\n",
      "Epoch 47/100\n",
      " - 1s - loss: 87.0422 - val_loss: 136.7513\n",
      "Epoch 48/100\n",
      " - 1s - loss: 83.8791 - val_loss: 133.4670\n",
      "Epoch 49/100\n",
      " - 1s - loss: 81.4041 - val_loss: 133.1966\n",
      "Epoch 50/100\n",
      " - 1s - loss: 78.0045 - val_loss: 136.4805\n",
      "Epoch 51/100\n",
      " - 1s - loss: 74.8070 - val_loss: 129.2298\n",
      "Epoch 52/100\n",
      " - 1s - loss: 72.1343 - val_loss: 133.6667\n",
      "Epoch 53/100\n",
      " - 1s - loss: 69.2865 - val_loss: 134.5583\n",
      "Epoch 54/100\n",
      " - 1s - loss: 66.1487 - val_loss: 129.3858\n",
      "Epoch 55/100\n",
      " - 0s - loss: 63.7213 - val_loss: 137.0542\n",
      "Epoch 56/100\n",
      " - 0s - loss: 61.5439 - val_loss: 129.0693\n",
      "Epoch 57/100\n",
      " - 1s - loss: 60.6694 - val_loss: 134.3716\n",
      "Epoch 58/100\n",
      " - 1s - loss: 57.8861 - val_loss: 136.6696\n",
      "Epoch 59/100\n",
      " - 0s - loss: 56.5661 - val_loss: 134.7951\n",
      "Epoch 60/100\n",
      " - 1s - loss: 54.7621 - val_loss: 129.5130\n",
      "Epoch 61/100\n",
      " - 1s - loss: 53.3294 - val_loss: 139.2794\n",
      "Epoch 62/100\n",
      " - 0s - loss: 52.4032 - val_loss: 133.9614\n",
      "Epoch 63/100\n",
      " - 0s - loss: 51.1753 - val_loss: 136.1578\n",
      "Epoch 64/100\n",
      " - 0s - loss: 50.3860 - val_loss: 135.9586\n",
      "Epoch 65/100\n",
      " - 0s - loss: 48.8608 - val_loss: 143.9751\n",
      "Epoch 66/100\n",
      " - 1s - loss: 48.7912 - val_loss: 137.0447\n",
      "Epoch 67/100\n",
      " - 1s - loss: 47.5012 - val_loss: 135.8703\n",
      "Epoch 68/100\n",
      " - 1s - loss: 46.5266 - val_loss: 146.3890\n",
      "Epoch 69/100\n",
      " - 0s - loss: 46.6715 - val_loss: 135.6780\n",
      "Epoch 70/100\n",
      " - 0s - loss: 45.5047 - val_loss: 139.9884\n",
      "Epoch 71/100\n",
      " - 0s - loss: 44.3223 - val_loss: 135.3296\n",
      "Epoch 72/100\n",
      " - 0s - loss: 44.5096 - val_loss: 135.9272\n",
      "Epoch 73/100\n",
      " - 0s - loss: 43.3878 - val_loss: 137.6177\n",
      "Epoch 74/100\n",
      " - 0s - loss: 43.0215 - val_loss: 141.3047\n",
      "Epoch 75/100\n",
      " - 0s - loss: 41.9481 - val_loss: 135.8886\n",
      "Epoch 76/100\n",
      " - 0s - loss: 42.1548 - val_loss: 136.9954\n",
      "Epoch 77/100\n",
      " - 0s - loss: 40.9691 - val_loss: 137.4966\n",
      "Epoch 78/100\n",
      " - 0s - loss: 40.9071 - val_loss: 141.7263\n",
      "Epoch 79/100\n",
      " - 0s - loss: 39.8485 - val_loss: 132.7656\n",
      "Epoch 80/100\n",
      " - 0s - loss: 40.3797 - val_loss: 130.9562\n",
      "Epoch 81/100\n",
      " - 0s - loss: 38.8541 - val_loss: 147.1615\n",
      "Epoch 82/100\n",
      " - 0s - loss: 39.6109 - val_loss: 138.4776\n",
      "Epoch 83/100\n",
      " - 0s - loss: 38.1076 - val_loss: 140.0558\n",
      "Epoch 84/100\n",
      " - 0s - loss: 38.1229 - val_loss: 132.2583\n",
      "Epoch 85/100\n",
      " - 0s - loss: 37.4920 - val_loss: 133.3955\n",
      "Epoch 86/100\n",
      " - 0s - loss: 36.9648 - val_loss: 143.1575\n",
      "Epoch 87/100\n",
      " - 0s - loss: 36.9410 - val_loss: 139.7885\n",
      "Epoch 88/100\n",
      " - 0s - loss: 36.2399 - val_loss: 142.4912\n",
      "Epoch 89/100\n",
      " - 0s - loss: 35.9198 - val_loss: 137.6568\n",
      "Epoch 90/100\n",
      " - 0s - loss: 35.8576 - val_loss: 131.4526\n",
      "Epoch 91/100\n",
      " - 0s - loss: 35.5112 - val_loss: 138.3420\n",
      "Epoch 92/100\n",
      " - 0s - loss: 35.1767 - val_loss: 136.7569\n",
      "Epoch 93/100\n",
      " - 0s - loss: 34.6700 - val_loss: 138.4439\n",
      "Epoch 94/100\n",
      " - 0s - loss: 34.3079 - val_loss: 136.1885\n",
      "Epoch 95/100\n",
      " - 0s - loss: 34.0600 - val_loss: 132.0037\n",
      "Epoch 96/100\n",
      " - 0s - loss: 34.0797 - val_loss: 134.3471\n",
      "Epoch 97/100\n",
      " - 0s - loss: 33.6680 - val_loss: 135.0954\n",
      "Epoch 98/100\n",
      " - 0s - loss: 33.8869 - val_loss: 129.4283\n",
      "Epoch 99/100\n",
      " - 0s - loss: 33.5451 - val_loss: 137.4845\n",
      "Epoch 100/100\n",
      " - 0s - loss: 33.0378 - val_loss: 126.8486\n"
     ]
    },
    {
     "data": {
      "text/plain": [
       "<keras.callbacks.History at 0x7f8a0b80b4a8>"
      ]
     },
     "execution_count": 55,
     "metadata": {},
     "output_type": "execute_result"
    }
   ],
   "source": [
    "# rebuild the model to initialize\n",
    "# (otherwise the network is already trained)\n",
    "model = regression_model('adam','mse')\n",
    "\n",
    "# fit the model\n",
    "model.fit(predictors_norm, target, validation_split=0.3, epochs=100, verbose=2)"
   ]
  },
  {
   "cell_type": "code",
   "execution_count": 54,
   "metadata": {},
   "outputs": [
    {
     "name": "stdout",
     "output_type": "stream",
     "text": [
      "Train on 721 samples, validate on 309 samples\n",
      "Epoch 1/100\n",
      " - 1s - loss: 1636.2179 - val_loss: 1128.3022\n",
      "Epoch 2/100\n",
      " - 0s - loss: 1483.7692 - val_loss: 984.3821\n",
      "Epoch 3/100\n",
      " - 0s - loss: 1240.5062 - val_loss: 766.8934\n",
      "Epoch 4/100\n",
      " - 0s - loss: 902.5273 - val_loss: 502.0000\n",
      "Epoch 5/100\n",
      " - 0s - loss: 545.0988 - val_loss: 281.9602\n",
      "Epoch 6/100\n",
      " - 0s - loss: 321.1394 - val_loss: 183.0737\n",
      "Epoch 7/100\n",
      " - 0s - loss: 244.9031 - val_loss: 171.9075\n",
      "Epoch 8/100\n",
      " - 0s - loss: 222.0271 - val_loss: 173.5725\n",
      "Epoch 9/100\n",
      " - 0s - loss: 209.5724 - val_loss: 171.4300\n",
      "Epoch 10/100\n",
      " - 0s - loss: 199.7520 - val_loss: 171.4564\n",
      "Epoch 11/100\n",
      " - 0s - loss: 192.9677 - val_loss: 168.1076\n",
      "Epoch 12/100\n",
      " - 0s - loss: 186.4067 - val_loss: 166.7071\n",
      "Epoch 13/100\n",
      " - 0s - loss: 180.8813 - val_loss: 163.3912\n",
      "Epoch 14/100\n",
      " - 0s - loss: 176.2845 - val_loss: 162.2557\n",
      "Epoch 15/100\n",
      " - 0s - loss: 171.6979 - val_loss: 162.0833\n",
      "Epoch 16/100\n",
      " - 0s - loss: 168.0071 - val_loss: 162.4971\n",
      "Epoch 17/100\n",
      " - 0s - loss: 165.1322 - val_loss: 161.4070\n",
      "Epoch 18/100\n",
      " - 0s - loss: 161.5777 - val_loss: 161.4804\n",
      "Epoch 19/100\n",
      " - 0s - loss: 158.7923 - val_loss: 160.7030\n",
      "Epoch 20/100\n",
      " - 0s - loss: 156.2258 - val_loss: 159.9716\n",
      "Epoch 21/100\n",
      " - 0s - loss: 153.8121 - val_loss: 163.8390\n",
      "Epoch 22/100\n",
      " - 0s - loss: 151.5325 - val_loss: 161.0289\n",
      "Epoch 23/100\n",
      " - 0s - loss: 149.3863 - val_loss: 163.9331\n",
      "Epoch 24/100\n",
      " - 0s - loss: 147.5061 - val_loss: 165.1500\n",
      "Epoch 25/100\n",
      " - 0s - loss: 145.5096 - val_loss: 166.6202\n",
      "Epoch 26/100\n",
      " - 0s - loss: 143.5400 - val_loss: 165.0021\n",
      "Epoch 27/100\n",
      " - 0s - loss: 141.8107 - val_loss: 165.8234\n",
      "Epoch 28/100\n",
      " - 0s - loss: 140.7680 - val_loss: 166.4620\n",
      "Epoch 29/100\n",
      " - 0s - loss: 139.2289 - val_loss: 166.3057\n",
      "Epoch 30/100\n",
      " - 0s - loss: 138.3001 - val_loss: 166.3636\n",
      "Epoch 31/100\n",
      " - 0s - loss: 135.8700 - val_loss: 167.1725\n",
      "Epoch 32/100\n",
      " - 0s - loss: 135.1140 - val_loss: 166.0552\n",
      "Epoch 33/100\n",
      " - 0s - loss: 133.1353 - val_loss: 168.2693\n",
      "Epoch 34/100\n",
      " - 0s - loss: 132.0442 - val_loss: 165.1619\n",
      "Epoch 35/100\n",
      " - 0s - loss: 130.6775 - val_loss: 168.9321\n",
      "Epoch 36/100\n",
      " - 0s - loss: 129.2399 - val_loss: 165.3045\n",
      "Epoch 37/100\n",
      " - 0s - loss: 127.9221 - val_loss: 166.2144\n",
      "Epoch 38/100\n",
      " - 0s - loss: 126.3620 - val_loss: 165.6362\n",
      "Epoch 39/100\n",
      " - 0s - loss: 125.3615 - val_loss: 167.6936\n",
      "Epoch 40/100\n",
      " - 0s - loss: 123.4662 - val_loss: 162.1017\n",
      "Epoch 41/100\n",
      " - 0s - loss: 121.9326 - val_loss: 165.2976\n",
      "Epoch 42/100\n",
      " - 0s - loss: 120.6483 - val_loss: 163.1788\n",
      "Epoch 43/100\n",
      " - 0s - loss: 119.5644 - val_loss: 159.3877\n",
      "Epoch 44/100\n",
      " - 0s - loss: 117.2052 - val_loss: 164.4197\n",
      "Epoch 45/100\n",
      " - 0s - loss: 115.6556 - val_loss: 160.6354\n",
      "Epoch 46/100\n",
      " - 0s - loss: 114.5785 - val_loss: 160.9595\n",
      "Epoch 47/100\n",
      " - 0s - loss: 112.9292 - val_loss: 161.7001\n",
      "Epoch 48/100\n",
      " - 0s - loss: 111.7130 - val_loss: 162.0354\n",
      "Epoch 49/100\n",
      " - 0s - loss: 109.6242 - val_loss: 157.1823\n",
      "Epoch 50/100\n",
      " - 0s - loss: 107.6297 - val_loss: 158.7336\n",
      "Epoch 51/100\n",
      " - 0s - loss: 105.2099 - val_loss: 154.8382\n",
      "Epoch 52/100\n",
      " - 0s - loss: 103.2083 - val_loss: 154.0223\n",
      "Epoch 53/100\n",
      " - 0s - loss: 100.7906 - val_loss: 155.3668\n",
      "Epoch 54/100\n",
      " - 0s - loss: 99.0344 - val_loss: 151.8152\n",
      "Epoch 55/100\n",
      " - 0s - loss: 97.1178 - val_loss: 150.4801\n",
      "Epoch 56/100\n",
      " - 0s - loss: 94.4050 - val_loss: 147.9155\n",
      "Epoch 57/100\n",
      " - 0s - loss: 92.6813 - val_loss: 145.6323\n",
      "Epoch 58/100\n",
      " - 0s - loss: 89.4638 - val_loss: 143.3769\n",
      "Epoch 59/100\n",
      " - 0s - loss: 86.4360 - val_loss: 138.6927\n",
      "Epoch 60/100\n",
      " - 0s - loss: 83.3114 - val_loss: 144.4948\n",
      "Epoch 61/100\n",
      " - 0s - loss: 80.6034 - val_loss: 140.5950\n",
      "Epoch 62/100\n",
      " - 0s - loss: 78.4328 - val_loss: 139.7633\n",
      "Epoch 63/100\n",
      " - 0s - loss: 75.1161 - val_loss: 132.8333\n",
      "Epoch 64/100\n",
      " - 0s - loss: 73.4330 - val_loss: 137.1359\n",
      "Epoch 65/100\n",
      " - 0s - loss: 71.0229 - val_loss: 134.2525\n",
      "Epoch 66/100\n",
      " - 0s - loss: 69.0536 - val_loss: 138.4663\n",
      "Epoch 67/100\n",
      " - 0s - loss: 66.6023 - val_loss: 130.3761\n",
      "Epoch 68/100\n",
      " - 0s - loss: 65.3464 - val_loss: 127.7023\n",
      "Epoch 69/100\n",
      " - 0s - loss: 63.3708 - val_loss: 126.5540\n",
      "Epoch 70/100\n",
      " - 0s - loss: 61.8218 - val_loss: 129.4053\n",
      "Epoch 71/100\n",
      " - 0s - loss: 60.2186 - val_loss: 126.9421\n",
      "Epoch 72/100\n",
      " - 0s - loss: 58.7120 - val_loss: 123.9410\n",
      "Epoch 73/100\n",
      " - 0s - loss: 57.1734 - val_loss: 121.1231\n",
      "Epoch 74/100\n",
      " - 0s - loss: 55.5580 - val_loss: 124.7315\n",
      "Epoch 75/100\n",
      " - 0s - loss: 54.6963 - val_loss: 120.2630\n",
      "Epoch 76/100\n",
      " - 0s - loss: 53.0056 - val_loss: 118.1430\n",
      "Epoch 77/100\n",
      " - 1s - loss: 51.6595 - val_loss: 117.8870\n",
      "Epoch 78/100\n",
      " - 0s - loss: 50.8422 - val_loss: 116.8517\n",
      "Epoch 79/100\n",
      " - 0s - loss: 49.6729 - val_loss: 116.2842\n",
      "Epoch 80/100\n",
      " - 0s - loss: 49.0965 - val_loss: 114.7069\n",
      "Epoch 81/100\n",
      " - 0s - loss: 48.1714 - val_loss: 121.1974\n",
      "Epoch 82/100\n",
      " - 0s - loss: 46.9493 - val_loss: 108.5044\n",
      "Epoch 83/100\n",
      " - 0s - loss: 46.1185 - val_loss: 118.7628\n",
      "Epoch 84/100\n",
      " - 0s - loss: 46.0039 - val_loss: 114.3887\n",
      "Epoch 85/100\n",
      " - 0s - loss: 44.4328 - val_loss: 111.4142\n",
      "Epoch 86/100\n",
      " - 0s - loss: 44.0231 - val_loss: 116.7538\n",
      "Epoch 87/100\n",
      " - 0s - loss: 43.4459 - val_loss: 120.2823\n",
      "Epoch 88/100\n",
      " - 0s - loss: 42.1573 - val_loss: 112.4983\n",
      "Epoch 89/100\n",
      " - 0s - loss: 42.7955 - val_loss: 108.4921\n",
      "Epoch 90/100\n",
      " - 0s - loss: 41.4778 - val_loss: 127.9789\n",
      "Epoch 91/100\n",
      " - 0s - loss: 41.2039 - val_loss: 116.0009\n",
      "Epoch 92/100\n",
      " - 0s - loss: 39.9084 - val_loss: 117.8764\n",
      "Epoch 93/100\n",
      " - 0s - loss: 39.7297 - val_loss: 114.0639\n",
      "Epoch 94/100\n",
      " - 0s - loss: 38.8523 - val_loss: 125.1426\n",
      "Epoch 95/100\n",
      " - 0s - loss: 38.3151 - val_loss: 111.9642\n",
      "Epoch 96/100\n",
      " - 0s - loss: 38.2891 - val_loss: 125.6633\n",
      "Epoch 97/100\n",
      " - 0s - loss: 37.8742 - val_loss: 115.2547\n",
      "Epoch 98/100\n",
      " - 0s - loss: 37.2109 - val_loss: 118.9200\n",
      "Epoch 99/100\n",
      " - 0s - loss: 37.0125 - val_loss: 117.6369\n",
      "Epoch 100/100\n",
      " - 0s - loss: 36.7416 - val_loss: 121.8020\n"
     ]
    },
    {
     "data": {
      "text/plain": [
       "<keras.callbacks.History at 0x7f8a0bbf3320>"
      ]
     },
     "execution_count": 54,
     "metadata": {},
     "output_type": "execute_result"
    }
   ],
   "source": [
    "# rebuild the model to initialize\n",
    "# (otherwise the network is already trained)\n",
    "model = regression_model('adam','mean_squared_error')\n",
    "\n",
    "# fit the model\n",
    "model.fit(predictors_norm, target, validation_split=0.3, epochs=100, verbose=2)"
   ]
  },
  {
   "cell_type": "markdown",
   "metadata": {
    "button": false,
    "deletable": true,
    "new_sheet": false,
    "run_control": {
     "read_only": false
    }
   },
   "source": [
    "<strong>You can refer to this [link](https://keras.io/models/sequential/) to learn about other functions that you can use for prediction or evaluation.</strong>"
   ]
  },
  {
   "cell_type": "code",
   "execution_count": 53,
   "metadata": {},
   "outputs": [
    {
     "name": "stdout",
     "output_type": "stream",
     "text": [
      "Train on 721 samples, validate on 309 samples\n",
      "Epoch 1/100\n",
      " - 1s - loss: nan - val_loss: nan\n",
      "Epoch 2/100\n",
      " - 0s - loss: nan - val_loss: nan\n",
      "Epoch 3/100\n",
      " - 0s - loss: nan - val_loss: nan\n",
      "Epoch 4/100\n",
      " - 0s - loss: nan - val_loss: nan\n",
      "Epoch 5/100\n",
      " - 0s - loss: nan - val_loss: nan\n",
      "Epoch 6/100\n",
      " - 0s - loss: nan - val_loss: nan\n",
      "Epoch 7/100\n",
      " - 0s - loss: nan - val_loss: nan\n",
      "Epoch 8/100\n",
      " - 0s - loss: nan - val_loss: nan\n",
      "Epoch 9/100\n",
      " - 0s - loss: nan - val_loss: nan\n",
      "Epoch 10/100\n",
      " - 0s - loss: nan - val_loss: nan\n",
      "Epoch 11/100\n",
      " - 0s - loss: nan - val_loss: nan\n",
      "Epoch 12/100\n",
      " - 0s - loss: nan - val_loss: nan\n",
      "Epoch 13/100\n",
      " - 0s - loss: nan - val_loss: nan\n",
      "Epoch 14/100\n",
      " - 0s - loss: nan - val_loss: nan\n",
      "Epoch 15/100\n",
      " - 0s - loss: nan - val_loss: nan\n",
      "Epoch 16/100\n",
      " - 0s - loss: nan - val_loss: nan\n",
      "Epoch 17/100\n",
      " - 0s - loss: nan - val_loss: nan\n",
      "Epoch 18/100\n",
      " - 0s - loss: nan - val_loss: nan\n",
      "Epoch 19/100\n",
      " - 0s - loss: nan - val_loss: nan\n",
      "Epoch 20/100\n",
      " - 0s - loss: nan - val_loss: nan\n",
      "Epoch 21/100\n",
      " - 0s - loss: nan - val_loss: nan\n",
      "Epoch 22/100\n",
      " - 0s - loss: nan - val_loss: nan\n",
      "Epoch 23/100\n",
      " - 0s - loss: nan - val_loss: nan\n",
      "Epoch 24/100\n",
      " - 0s - loss: nan - val_loss: nan\n",
      "Epoch 25/100\n",
      " - 0s - loss: nan - val_loss: nan\n",
      "Epoch 26/100\n",
      " - 0s - loss: nan - val_loss: nan\n",
      "Epoch 27/100\n",
      " - 0s - loss: nan - val_loss: nan\n",
      "Epoch 28/100\n",
      " - 0s - loss: nan - val_loss: nan\n",
      "Epoch 29/100\n",
      " - 0s - loss: nan - val_loss: nan\n",
      "Epoch 30/100\n",
      " - 0s - loss: nan - val_loss: nan\n",
      "Epoch 31/100\n",
      " - 0s - loss: nan - val_loss: nan\n",
      "Epoch 32/100\n",
      " - 0s - loss: nan - val_loss: nan\n",
      "Epoch 33/100\n",
      " - 0s - loss: nan - val_loss: nan\n",
      "Epoch 34/100\n",
      " - 0s - loss: nan - val_loss: nan\n",
      "Epoch 35/100\n",
      " - 0s - loss: nan - val_loss: nan\n",
      "Epoch 36/100\n",
      " - 0s - loss: nan - val_loss: nan\n",
      "Epoch 37/100\n",
      " - 0s - loss: nan - val_loss: nan\n",
      "Epoch 38/100\n",
      " - 0s - loss: nan - val_loss: nan\n",
      "Epoch 39/100\n",
      " - 0s - loss: nan - val_loss: nan\n",
      "Epoch 40/100\n",
      " - 0s - loss: nan - val_loss: nan\n",
      "Epoch 41/100\n",
      " - 0s - loss: nan - val_loss: nan\n",
      "Epoch 42/100\n",
      " - 0s - loss: nan - val_loss: nan\n",
      "Epoch 43/100\n",
      " - 0s - loss: nan - val_loss: nan\n",
      "Epoch 44/100\n",
      " - 0s - loss: nan - val_loss: nan\n",
      "Epoch 45/100\n",
      " - 0s - loss: nan - val_loss: nan\n",
      "Epoch 46/100\n",
      " - 0s - loss: nan - val_loss: nan\n",
      "Epoch 47/100\n",
      " - 0s - loss: nan - val_loss: nan\n",
      "Epoch 48/100\n",
      " - 0s - loss: nan - val_loss: nan\n",
      "Epoch 49/100\n",
      " - 0s - loss: nan - val_loss: nan\n",
      "Epoch 50/100\n",
      " - 0s - loss: nan - val_loss: nan\n",
      "Epoch 51/100\n",
      " - 0s - loss: nan - val_loss: nan\n",
      "Epoch 52/100\n",
      " - 0s - loss: nan - val_loss: nan\n",
      "Epoch 53/100\n",
      " - 0s - loss: nan - val_loss: nan\n",
      "Epoch 54/100\n",
      " - 0s - loss: nan - val_loss: nan\n",
      "Epoch 55/100\n",
      " - 0s - loss: nan - val_loss: nan\n",
      "Epoch 56/100\n",
      " - 0s - loss: nan - val_loss: nan\n",
      "Epoch 57/100\n",
      " - 0s - loss: nan - val_loss: nan\n",
      "Epoch 58/100\n",
      " - 0s - loss: nan - val_loss: nan\n",
      "Epoch 59/100\n",
      " - 0s - loss: nan - val_loss: nan\n",
      "Epoch 60/100\n",
      " - 0s - loss: nan - val_loss: nan\n",
      "Epoch 61/100\n",
      " - 0s - loss: nan - val_loss: nan\n",
      "Epoch 62/100\n",
      " - 0s - loss: nan - val_loss: nan\n",
      "Epoch 63/100\n",
      " - 0s - loss: nan - val_loss: nan\n",
      "Epoch 64/100\n",
      " - 0s - loss: nan - val_loss: nan\n",
      "Epoch 65/100\n",
      " - 0s - loss: nan - val_loss: nan\n",
      "Epoch 66/100\n",
      " - 0s - loss: nan - val_loss: nan\n",
      "Epoch 67/100\n",
      " - 0s - loss: nan - val_loss: nan\n",
      "Epoch 68/100\n",
      " - 0s - loss: nan - val_loss: nan\n",
      "Epoch 69/100\n",
      " - 0s - loss: nan - val_loss: nan\n",
      "Epoch 70/100\n",
      " - 0s - loss: nan - val_loss: nan\n",
      "Epoch 71/100\n",
      " - 0s - loss: nan - val_loss: nan\n",
      "Epoch 72/100\n",
      " - 0s - loss: nan - val_loss: nan\n",
      "Epoch 73/100\n",
      " - 0s - loss: nan - val_loss: nan\n",
      "Epoch 74/100\n",
      " - 0s - loss: nan - val_loss: nan\n",
      "Epoch 75/100\n",
      " - 0s - loss: nan - val_loss: nan\n",
      "Epoch 76/100\n",
      " - 0s - loss: nan - val_loss: nan\n",
      "Epoch 77/100\n",
      " - 0s - loss: nan - val_loss: nan\n",
      "Epoch 78/100\n",
      " - 0s - loss: nan - val_loss: nan\n",
      "Epoch 79/100\n",
      " - 0s - loss: nan - val_loss: nan\n",
      "Epoch 80/100\n",
      " - 0s - loss: nan - val_loss: nan\n",
      "Epoch 81/100\n",
      " - 0s - loss: nan - val_loss: nan\n",
      "Epoch 82/100\n",
      " - 0s - loss: nan - val_loss: nan\n",
      "Epoch 83/100\n",
      " - 0s - loss: nan - val_loss: nan\n",
      "Epoch 84/100\n",
      " - 0s - loss: nan - val_loss: nan\n",
      "Epoch 85/100\n",
      " - 0s - loss: nan - val_loss: nan\n",
      "Epoch 86/100\n",
      " - 0s - loss: nan - val_loss: nan\n",
      "Epoch 87/100\n",
      " - 0s - loss: nan - val_loss: nan\n",
      "Epoch 88/100\n",
      " - 0s - loss: nan - val_loss: nan\n",
      "Epoch 89/100\n",
      " - 0s - loss: nan - val_loss: nan\n",
      "Epoch 90/100\n",
      " - 0s - loss: nan - val_loss: nan\n",
      "Epoch 91/100\n",
      " - 0s - loss: nan - val_loss: nan\n",
      "Epoch 92/100\n",
      " - 0s - loss: nan - val_loss: nan\n",
      "Epoch 93/100\n",
      " - 0s - loss: nan - val_loss: nan\n",
      "Epoch 94/100\n",
      " - 0s - loss: nan - val_loss: nan\n",
      "Epoch 95/100\n",
      " - 0s - loss: nan - val_loss: nan\n",
      "Epoch 96/100\n",
      " - 0s - loss: nan - val_loss: nan\n",
      "Epoch 97/100\n",
      " - 0s - loss: nan - val_loss: nan\n",
      "Epoch 98/100\n",
      " - 0s - loss: nan - val_loss: nan\n",
      "Epoch 99/100\n",
      " - 0s - loss: nan - val_loss: nan\n",
      "Epoch 100/100\n",
      " - 0s - loss: nan - val_loss: nan\n"
     ]
    },
    {
     "data": {
      "text/plain": [
       "<keras.callbacks.History at 0x7f8a0bd8ff60>"
      ]
     },
     "execution_count": 53,
     "metadata": {},
     "output_type": "execute_result"
    }
   ],
   "source": [
    "# rebuild the model to initialize\n",
    "# (otherwise the network is already trained)\n",
    "model = regression_model('sgd','mean_squared_error')\n",
    "\n",
    "# fit the model\n",
    "model.fit(predictors_norm, target, validation_split=0.3, epochs=100, verbose=2)"
   ]
  },
  {
   "cell_type": "markdown",
   "metadata": {
    "button": false,
    "deletable": true,
    "new_sheet": false,
    "run_control": {
     "read_only": false
    }
   },
   "source": [
    "Feel free to vary the following and note what impact each change has on the model's performance:\n",
    "\n",
    "1. Increase or decreate number of neurons in hidden layers\n",
    "2. Add more hidden layers\n",
    "3. Increase number of epochs"
   ]
  },
  {
   "cell_type": "code",
   "execution_count": 52,
   "metadata": {},
   "outputs": [
    {
     "name": "stdout",
     "output_type": "stream",
     "text": [
      "Train on 721 samples, validate on 309 samples\n",
      "Epoch 1/100\n",
      " - 1s - loss: 0.2252 - val_loss: 0.0206\n",
      "Epoch 2/100\n",
      " - 0s - loss: 0.0105 - val_loss: 0.0091\n",
      "Epoch 3/100\n",
      " - 0s - loss: 0.0033 - val_loss: 0.0054\n",
      "Epoch 4/100\n",
      " - 0s - loss: 0.0016 - val_loss: 0.0043\n",
      "Epoch 5/100\n",
      " - 0s - loss: 0.0011 - val_loss: 0.0036\n",
      "Epoch 6/100\n",
      " - 0s - loss: 8.3099e-04 - val_loss: 0.0030\n",
      "Epoch 7/100\n",
      " - 0s - loss: 6.1623e-04 - val_loss: 0.0026\n",
      "Epoch 8/100\n",
      " - 0s - loss: 4.4432e-04 - val_loss: 0.0022\n",
      "Epoch 9/100\n",
      " - 0s - loss: 2.9226e-04 - val_loss: 0.0019\n",
      "Epoch 10/100\n",
      " - 0s - loss: 2.1128e-04 - val_loss: 0.0018\n",
      "Epoch 11/100\n",
      " - 0s - loss: 1.6262e-04 - val_loss: 0.0016\n",
      "Epoch 12/100\n",
      " - 0s - loss: 1.0764e-04 - val_loss: 0.0015\n",
      "Epoch 13/100\n",
      " - 0s - loss: 6.9518e-05 - val_loss: 0.0014\n",
      "Epoch 14/100\n",
      " - 0s - loss: 5.5298e-05 - val_loss: 0.0014\n",
      "Epoch 15/100\n",
      " - 0s - loss: 4.1193e-05 - val_loss: 0.0013\n",
      "Epoch 16/100\n",
      " - 0s - loss: 2.7204e-05 - val_loss: 0.0012\n",
      "Epoch 17/100\n",
      " - 0s - loss: 1.3327e-05 - val_loss: 0.0012\n",
      "Epoch 18/100\n",
      " - 0s - loss: 7.9593e-06 - val_loss: 0.0011\n",
      "Epoch 19/100\n",
      " - 0s - loss: 4.2635e-06 - val_loss: 0.0011\n",
      "Epoch 20/100\n",
      " - 0s - loss: 5.8303e-07 - val_loss: 0.0010\n",
      "Epoch 21/100\n",
      " - 0s - loss: 0.0000e+00 - val_loss: 0.0010\n",
      "Epoch 22/100\n",
      " - 0s - loss: 0.0000e+00 - val_loss: 0.0010\n",
      "Epoch 23/100\n",
      " - 0s - loss: 0.0000e+00 - val_loss: 0.0010\n",
      "Epoch 24/100\n",
      " - 0s - loss: 0.0000e+00 - val_loss: 0.0010\n",
      "Epoch 25/100\n",
      " - 0s - loss: 0.0000e+00 - val_loss: 0.0010\n",
      "Epoch 26/100\n",
      " - 0s - loss: 0.0000e+00 - val_loss: 0.0010\n",
      "Epoch 27/100\n",
      " - 0s - loss: 0.0000e+00 - val_loss: 0.0010\n",
      "Epoch 28/100\n",
      " - 0s - loss: 0.0000e+00 - val_loss: 0.0010\n",
      "Epoch 29/100\n",
      " - 0s - loss: 0.0000e+00 - val_loss: 0.0010\n",
      "Epoch 30/100\n",
      " - 0s - loss: 0.0000e+00 - val_loss: 0.0010\n",
      "Epoch 31/100\n",
      " - 0s - loss: 0.0000e+00 - val_loss: 0.0010\n",
      "Epoch 32/100\n",
      " - 0s - loss: 0.0000e+00 - val_loss: 0.0010\n",
      "Epoch 33/100\n",
      " - 0s - loss: 0.0000e+00 - val_loss: 0.0010\n",
      "Epoch 34/100\n",
      " - 0s - loss: 0.0000e+00 - val_loss: 0.0010\n",
      "Epoch 35/100\n",
      " - 0s - loss: 0.0000e+00 - val_loss: 0.0010\n",
      "Epoch 36/100\n",
      " - 0s - loss: 0.0000e+00 - val_loss: 0.0010\n",
      "Epoch 37/100\n",
      " - 0s - loss: 0.0000e+00 - val_loss: 0.0010\n",
      "Epoch 38/100\n",
      " - 0s - loss: 0.0000e+00 - val_loss: 0.0010\n",
      "Epoch 39/100\n",
      " - 0s - loss: 0.0000e+00 - val_loss: 0.0010\n",
      "Epoch 40/100\n",
      " - 0s - loss: 0.0000e+00 - val_loss: 0.0010\n",
      "Epoch 41/100\n",
      " - 0s - loss: 0.0000e+00 - val_loss: 0.0010\n",
      "Epoch 42/100\n",
      " - 0s - loss: 0.0000e+00 - val_loss: 0.0010\n",
      "Epoch 43/100\n",
      " - 0s - loss: 0.0000e+00 - val_loss: 0.0010\n",
      "Epoch 44/100\n",
      " - 0s - loss: 0.0000e+00 - val_loss: 0.0010\n",
      "Epoch 45/100\n",
      " - 0s - loss: 0.0000e+00 - val_loss: 0.0010\n",
      "Epoch 46/100\n",
      " - 0s - loss: 0.0000e+00 - val_loss: 0.0010\n",
      "Epoch 47/100\n",
      " - 0s - loss: 0.0000e+00 - val_loss: 0.0010\n",
      "Epoch 48/100\n",
      " - 0s - loss: 0.0000e+00 - val_loss: 0.0010\n",
      "Epoch 49/100\n",
      " - 0s - loss: 0.0000e+00 - val_loss: 0.0010\n",
      "Epoch 50/100\n",
      " - 0s - loss: 0.0000e+00 - val_loss: 0.0010\n",
      "Epoch 51/100\n",
      " - 0s - loss: 0.0000e+00 - val_loss: 0.0010\n",
      "Epoch 52/100\n",
      " - 0s - loss: 0.0000e+00 - val_loss: 0.0010\n",
      "Epoch 53/100\n",
      " - 0s - loss: 0.0000e+00 - val_loss: 0.0010\n",
      "Epoch 54/100\n",
      " - 0s - loss: 0.0000e+00 - val_loss: 0.0010\n",
      "Epoch 55/100\n",
      " - 0s - loss: 0.0000e+00 - val_loss: 0.0010\n",
      "Epoch 56/100\n",
      " - 0s - loss: 0.0000e+00 - val_loss: 0.0010\n",
      "Epoch 57/100\n",
      " - 0s - loss: 0.0000e+00 - val_loss: 0.0010\n",
      "Epoch 58/100\n",
      " - 0s - loss: 0.0000e+00 - val_loss: 0.0010\n",
      "Epoch 59/100\n",
      " - 0s - loss: 0.0000e+00 - val_loss: 0.0010\n",
      "Epoch 60/100\n",
      " - 0s - loss: 0.0000e+00 - val_loss: 0.0010\n",
      "Epoch 61/100\n",
      " - 0s - loss: 0.0000e+00 - val_loss: 0.0010\n",
      "Epoch 62/100\n",
      " - 0s - loss: 0.0000e+00 - val_loss: 0.0010\n",
      "Epoch 63/100\n",
      " - 0s - loss: 0.0000e+00 - val_loss: 0.0010\n",
      "Epoch 64/100\n",
      " - 0s - loss: 0.0000e+00 - val_loss: 0.0010\n",
      "Epoch 65/100\n",
      " - 0s - loss: 0.0000e+00 - val_loss: 0.0010\n",
      "Epoch 66/100\n",
      " - 0s - loss: 0.0000e+00 - val_loss: 0.0010\n",
      "Epoch 67/100\n",
      " - 0s - loss: 0.0000e+00 - val_loss: 0.0010\n",
      "Epoch 68/100\n",
      " - 0s - loss: 0.0000e+00 - val_loss: 0.0010\n",
      "Epoch 69/100\n",
      " - 0s - loss: 0.0000e+00 - val_loss: 0.0010\n",
      "Epoch 70/100\n",
      " - 0s - loss: 0.0000e+00 - val_loss: 0.0010\n",
      "Epoch 71/100\n",
      " - 0s - loss: 0.0000e+00 - val_loss: 0.0010\n",
      "Epoch 72/100\n",
      " - 0s - loss: 0.0000e+00 - val_loss: 0.0010\n",
      "Epoch 73/100\n",
      " - 0s - loss: 0.0000e+00 - val_loss: 0.0010\n",
      "Epoch 74/100\n",
      " - 0s - loss: 0.0000e+00 - val_loss: 0.0010\n",
      "Epoch 75/100\n",
      " - 0s - loss: 0.0000e+00 - val_loss: 0.0010\n",
      "Epoch 76/100\n",
      " - 0s - loss: 0.0000e+00 - val_loss: 0.0010\n",
      "Epoch 77/100\n",
      " - 0s - loss: 0.0000e+00 - val_loss: 0.0010\n",
      "Epoch 78/100\n",
      " - 0s - loss: 0.0000e+00 - val_loss: 0.0010\n",
      "Epoch 79/100\n",
      " - 0s - loss: 0.0000e+00 - val_loss: 0.0010\n",
      "Epoch 80/100\n",
      " - 0s - loss: 0.0000e+00 - val_loss: 0.0010\n",
      "Epoch 81/100\n",
      " - 0s - loss: 0.0000e+00 - val_loss: 0.0010\n",
      "Epoch 82/100\n",
      " - 0s - loss: 0.0000e+00 - val_loss: 0.0010\n",
      "Epoch 83/100\n",
      " - 0s - loss: 0.0000e+00 - val_loss: 0.0010\n",
      "Epoch 84/100\n",
      " - 0s - loss: 0.0000e+00 - val_loss: 0.0010\n",
      "Epoch 85/100\n",
      " - 0s - loss: 0.0000e+00 - val_loss: 0.0010\n",
      "Epoch 86/100\n",
      " - 0s - loss: 0.0000e+00 - val_loss: 0.0010\n",
      "Epoch 87/100\n",
      " - 0s - loss: 0.0000e+00 - val_loss: 0.0010\n",
      "Epoch 88/100\n",
      " - 0s - loss: 0.0000e+00 - val_loss: 0.0010\n",
      "Epoch 89/100\n",
      " - 0s - loss: 0.0000e+00 - val_loss: 0.0010\n",
      "Epoch 90/100\n",
      " - 0s - loss: 0.0000e+00 - val_loss: 0.0010\n",
      "Epoch 91/100\n",
      " - 0s - loss: 0.0000e+00 - val_loss: 0.0010\n",
      "Epoch 92/100\n",
      " - 0s - loss: 0.0000e+00 - val_loss: 0.0010\n",
      "Epoch 93/100\n",
      " - 0s - loss: 0.0000e+00 - val_loss: 0.0010\n",
      "Epoch 94/100\n",
      " - 0s - loss: 0.0000e+00 - val_loss: 0.0010\n",
      "Epoch 95/100\n",
      " - 0s - loss: 0.0000e+00 - val_loss: 0.0010\n",
      "Epoch 96/100\n",
      " - 0s - loss: 0.0000e+00 - val_loss: 0.0010\n",
      "Epoch 97/100\n",
      " - 0s - loss: 0.0000e+00 - val_loss: 0.0010\n",
      "Epoch 98/100\n",
      " - 0s - loss: 0.0000e+00 - val_loss: 0.0010\n",
      "Epoch 99/100\n",
      " - 0s - loss: 0.0000e+00 - val_loss: 0.0010\n",
      "Epoch 100/100\n",
      " - 0s - loss: 0.0000e+00 - val_loss: 0.0010\n"
     ]
    },
    {
     "data": {
      "text/plain": [
       "<keras.callbacks.History at 0x7f8a9c7c55c0>"
      ]
     },
     "execution_count": 52,
     "metadata": {},
     "output_type": "execute_result"
    }
   ],
   "source": [
    "# rebuild the model to initialize\n",
    "# (otherwise the network is already trained)\n",
    "model = regression_model('sgd','KLD')\n",
    "\n",
    "# fit the model\n",
    "model.fit(predictors_norm, target, validation_split=0.3, epochs=100, verbose=2)"
   ]
  },
  {
   "cell_type": "markdown",
   "metadata": {
    "button": false,
    "deletable": true,
    "new_sheet": false,
    "run_control": {
     "read_only": false
    }
   },
   "source": [
    "### Thank you for completing this lab!\n",
    "\n",
    "This notebook was created by [Alex Aklson](https://www.linkedin.com/in/aklson/). I hope you found this lab interesting and educational. Feel free to contact me if you have any questions!"
   ]
  },
  {
   "cell_type": "markdown",
   "metadata": {
    "button": false,
    "deletable": true,
    "new_sheet": false,
    "run_control": {
     "read_only": false
    }
   },
   "source": [
    "This notebook is part of a course on **Coursera** called *Introduction to Deep Learning & Neural Networks with Keras*. If you accessed this notebook outside the course, you can take this course online by clicking [here](https://cocl.us/DL0101EN_Coursera_Week3_LAB1)."
   ]
  },
  {
   "cell_type": "markdown",
   "metadata": {
    "button": false,
    "deletable": true,
    "new_sheet": false,
    "run_control": {
     "read_only": false
    }
   },
   "source": [
    "<hr>\n",
    "\n",
    "Copyright &copy; 2019 [IBM Developer Skills Network](https://cognitiveclass.ai/?utm_source=bducopyrightlink&utm_medium=dswb&utm_campaign=bdu). This notebook and its source code are released under the terms of the [MIT License](https://bigdatauniversity.com/mit-license/)."
   ]
  }
 ],
 "metadata": {
  "kernelspec": {
   "display_name": "Python",
   "language": "python",
   "name": "conda-env-python-py"
  },
  "language_info": {
   "codemirror_mode": {
    "name": "ipython",
    "version": 3
   },
   "file_extension": ".py",
   "mimetype": "text/x-python",
   "name": "python",
   "nbconvert_exporter": "python",
   "pygments_lexer": "ipython3",
   "version": "3.6.10"
  }
 },
 "nbformat": 4,
 "nbformat_minor": 4
}
